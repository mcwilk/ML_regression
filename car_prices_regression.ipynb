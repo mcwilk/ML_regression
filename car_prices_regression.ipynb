{
 "cells": [
  {
   "cell_type": "markdown",
   "metadata": {},
   "source": [
    "## 1. Environment Configuration"
   ]
  },
  {
   "cell_type": "code",
   "execution_count": 1,
   "metadata": {},
   "outputs": [],
   "source": [
    "# Basic modules\n",
    "import numpy as np\n",
    "import pandas as pd\n",
    "import matplotlib.pyplot as plt\n",
    "import seaborn as sns\n",
    "import os\n",
    "import re"
   ]
  },
  {
   "cell_type": "code",
   "execution_count": 2,
   "metadata": {},
   "outputs": [],
   "source": [
    "# Display settings\n",
    "pd.set_option('display.max_columns', 60)\n",
    "pd.set_option('precision', 2)\n",
    "%matplotlib inline"
   ]
  },
  {
   "cell_type": "markdown",
   "metadata": {},
   "source": [
    "## 2. Data Exploration\n",
    "\n",
    "### Data loading into DataFrame:"
   ]
  },
  {
   "cell_type": "code",
   "execution_count": 3,
   "metadata": {},
   "outputs": [],
   "source": [
    "# training dataset (cars data scraped from online car markelplace)\n",
    "car_data = pd.read_csv('./Results/raw_data_f.csv')"
   ]
  },
  {
   "cell_type": "markdown",
   "metadata": {},
   "source": [
    "### A glance on the training data structure:"
   ]
  },
  {
   "cell_type": "code",
   "execution_count": 4,
   "metadata": {},
   "outputs": [
    {
     "data": {
      "text/html": [
       "<div>\n",
       "<style scoped>\n",
       "    .dataframe tbody tr th:only-of-type {\n",
       "        vertical-align: middle;\n",
       "    }\n",
       "\n",
       "    .dataframe tbody tr th {\n",
       "        vertical-align: top;\n",
       "    }\n",
       "\n",
       "    .dataframe thead th {\n",
       "        text-align: right;\n",
       "    }\n",
       "</style>\n",
       "<table border=\"1\" class=\"dataframe\">\n",
       "  <thead>\n",
       "    <tr style=\"text-align: right;\">\n",
       "      <th></th>\n",
       "      <th>Cena</th>\n",
       "      <th>Oferta od</th>\n",
       "      <th>Kategoria</th>\n",
       "      <th>Marka pojazdu</th>\n",
       "      <th>Model pojazdu</th>\n",
       "      <th>Rok produkcji</th>\n",
       "      <th>Przebieg</th>\n",
       "      <th>Pojemność skokowa</th>\n",
       "      <th>Rodzaj paliwa</th>\n",
       "      <th>Moc</th>\n",
       "      <th>Skrzynia biegów</th>\n",
       "      <th>Napęd</th>\n",
       "      <th>Typ</th>\n",
       "      <th>Liczba drzwi</th>\n",
       "      <th>Liczba miejsc</th>\n",
       "      <th>Kolor</th>\n",
       "      <th>Zarejestrowany w Polsce</th>\n",
       "      <th>Stan</th>\n",
       "      <th>Wersja</th>\n",
       "      <th>Generacja</th>\n",
       "      <th>Metalik</th>\n",
       "      <th>Pierwsza rejestracja</th>\n",
       "      <th>Bezwypadkowy</th>\n",
       "      <th>Kod Silnika</th>\n",
       "      <th>Możliwość finansowania</th>\n",
       "      <th>Faktura VAT</th>\n",
       "      <th>Leasing</th>\n",
       "      <th>Numer rejestracyjny pojazdu</th>\n",
       "      <th>Serwisowany w ASO</th>\n",
       "      <th>Kraj pochodzenia</th>\n",
       "      <th>Pierwszy właściciel</th>\n",
       "      <th>VAT marża</th>\n",
       "      <th>Miesięczna rata</th>\n",
       "      <th>lub do (przebieg km)</th>\n",
       "      <th>Filtr cząstek stałych</th>\n",
       "      <th>Emisja CO2</th>\n",
       "      <th>Perłowy</th>\n",
       "      <th>Homologacja ciężarowa</th>\n",
       "      <th>Akryl (niemetalizowany)</th>\n",
       "      <th>Gwarancja dealerska (w cenie)</th>\n",
       "      <th>Uszkodzony</th>\n",
       "      <th>Tuning</th>\n",
       "      <th>VIN</th>\n",
       "      <th>Matowy</th>\n",
       "      <th>Okres gwarancji producenta</th>\n",
       "      <th>Kierownica po prawej (Anglik)</th>\n",
       "      <th>Opłata początkowa</th>\n",
       "      <th>Liczba pozostałych rat</th>\n",
       "      <th>Wartość wykupu</th>\n",
       "      <th>Zarejestrowany jako zabytek</th>\n",
       "    </tr>\n",
       "  </thead>\n",
       "  <tbody>\n",
       "    <tr>\n",
       "      <td>0</td>\n",
       "      <td>30800PLN</td>\n",
       "      <td>Osoby prywatnej</td>\n",
       "      <td>Osobowe</td>\n",
       "      <td>Kia</td>\n",
       "      <td>Pro_cee'd</td>\n",
       "      <td>2013</td>\n",
       "      <td>75 000 km</td>\n",
       "      <td>1 582 cm3</td>\n",
       "      <td>Diesel</td>\n",
       "      <td>111 KM</td>\n",
       "      <td>Manualna</td>\n",
       "      <td>Na przednie koła</td>\n",
       "      <td>Kompakt</td>\n",
       "      <td>3.0</td>\n",
       "      <td>5.0</td>\n",
       "      <td>Biały</td>\n",
       "      <td>Tak</td>\n",
       "      <td>Używane</td>\n",
       "      <td>NaN</td>\n",
       "      <td>NaN</td>\n",
       "      <td>NaN</td>\n",
       "      <td>NaN</td>\n",
       "      <td>NaN</td>\n",
       "      <td>NaN</td>\n",
       "      <td>NaN</td>\n",
       "      <td>NaN</td>\n",
       "      <td>NaN</td>\n",
       "      <td>NaN</td>\n",
       "      <td>NaN</td>\n",
       "      <td>NaN</td>\n",
       "      <td>NaN</td>\n",
       "      <td>NaN</td>\n",
       "      <td>NaN</td>\n",
       "      <td>NaN</td>\n",
       "      <td>NaN</td>\n",
       "      <td>NaN</td>\n",
       "      <td>NaN</td>\n",
       "      <td>NaN</td>\n",
       "      <td>NaN</td>\n",
       "      <td>NaN</td>\n",
       "      <td>NaN</td>\n",
       "      <td>NaN</td>\n",
       "      <td>NaN</td>\n",
       "      <td>NaN</td>\n",
       "      <td>NaN</td>\n",
       "      <td>NaN</td>\n",
       "      <td>NaN</td>\n",
       "      <td>NaN</td>\n",
       "      <td>NaN</td>\n",
       "      <td>NaN</td>\n",
       "    </tr>\n",
       "    <tr>\n",
       "      <td>1</td>\n",
       "      <td>10600PLN</td>\n",
       "      <td>Osoby prywatnej</td>\n",
       "      <td>Osobowe</td>\n",
       "      <td>Opel</td>\n",
       "      <td>Corsa</td>\n",
       "      <td>2007</td>\n",
       "      <td>63 000 km</td>\n",
       "      <td>1 229 cm3</td>\n",
       "      <td>Benzyna</td>\n",
       "      <td>80 KM</td>\n",
       "      <td>Manualna</td>\n",
       "      <td>Na przednie koła</td>\n",
       "      <td>Auta miejskie</td>\n",
       "      <td>3.0</td>\n",
       "      <td>5.0</td>\n",
       "      <td>Srebrny</td>\n",
       "      <td>Tak</td>\n",
       "      <td>Używane</td>\n",
       "      <td>1.2 16V Enjoy</td>\n",
       "      <td>D (2006-2014)</td>\n",
       "      <td>Tak</td>\n",
       "      <td>29/12/2007</td>\n",
       "      <td>Tak</td>\n",
       "      <td>NaN</td>\n",
       "      <td>NaN</td>\n",
       "      <td>NaN</td>\n",
       "      <td>NaN</td>\n",
       "      <td>NaN</td>\n",
       "      <td>NaN</td>\n",
       "      <td>NaN</td>\n",
       "      <td>NaN</td>\n",
       "      <td>NaN</td>\n",
       "      <td>NaN</td>\n",
       "      <td>NaN</td>\n",
       "      <td>NaN</td>\n",
       "      <td>NaN</td>\n",
       "      <td>NaN</td>\n",
       "      <td>NaN</td>\n",
       "      <td>NaN</td>\n",
       "      <td>NaN</td>\n",
       "      <td>NaN</td>\n",
       "      <td>NaN</td>\n",
       "      <td>NaN</td>\n",
       "      <td>NaN</td>\n",
       "      <td>NaN</td>\n",
       "      <td>NaN</td>\n",
       "      <td>NaN</td>\n",
       "      <td>NaN</td>\n",
       "      <td>NaN</td>\n",
       "      <td>NaN</td>\n",
       "    </tr>\n",
       "    <tr>\n",
       "      <td>2</td>\n",
       "      <td>89790PLN</td>\n",
       "      <td>Osoby prywatnej</td>\n",
       "      <td>Osobowe</td>\n",
       "      <td>BMW</td>\n",
       "      <td>Seria 5</td>\n",
       "      <td>2015</td>\n",
       "      <td>151 000 km</td>\n",
       "      <td>1 995 cm3</td>\n",
       "      <td>Diesel</td>\n",
       "      <td>184 KM</td>\n",
       "      <td>Automatyczna</td>\n",
       "      <td>4x4 (dołączany automatycznie)</td>\n",
       "      <td>Sedan</td>\n",
       "      <td>NaN</td>\n",
       "      <td>NaN</td>\n",
       "      <td>Biały</td>\n",
       "      <td>Tak</td>\n",
       "      <td>Używane</td>\n",
       "      <td>F10/F11 (2009-2017)</td>\n",
       "      <td>F10/F11 (2009-2017)</td>\n",
       "      <td>NaN</td>\n",
       "      <td>NaN</td>\n",
       "      <td>Tak</td>\n",
       "      <td>520</td>\n",
       "      <td>Tak</td>\n",
       "      <td>Tak</td>\n",
       "      <td>Tak</td>\n",
       "      <td>WB908AP</td>\n",
       "      <td>Tak</td>\n",
       "      <td>NaN</td>\n",
       "      <td>NaN</td>\n",
       "      <td>NaN</td>\n",
       "      <td>NaN</td>\n",
       "      <td>NaN</td>\n",
       "      <td>NaN</td>\n",
       "      <td>NaN</td>\n",
       "      <td>NaN</td>\n",
       "      <td>NaN</td>\n",
       "      <td>NaN</td>\n",
       "      <td>NaN</td>\n",
       "      <td>NaN</td>\n",
       "      <td>NaN</td>\n",
       "      <td>NaN</td>\n",
       "      <td>NaN</td>\n",
       "      <td>NaN</td>\n",
       "      <td>NaN</td>\n",
       "      <td>NaN</td>\n",
       "      <td>NaN</td>\n",
       "      <td>NaN</td>\n",
       "      <td>NaN</td>\n",
       "    </tr>\n",
       "    <tr>\n",
       "      <td>3</td>\n",
       "      <td>58500PLN</td>\n",
       "      <td>Osoby prywatnej</td>\n",
       "      <td>Osobowe</td>\n",
       "      <td>Chrysler</td>\n",
       "      <td>Town &amp; Country</td>\n",
       "      <td>2014</td>\n",
       "      <td>158 000 km</td>\n",
       "      <td>3 605 cm3</td>\n",
       "      <td>Benzyna+LPG</td>\n",
       "      <td>283 KM</td>\n",
       "      <td>Automatyczna</td>\n",
       "      <td>Na przednie koła</td>\n",
       "      <td>Minivan</td>\n",
       "      <td>5.0</td>\n",
       "      <td>7.0</td>\n",
       "      <td>Srebrny</td>\n",
       "      <td>Tak</td>\n",
       "      <td>Używane</td>\n",
       "      <td>NaN</td>\n",
       "      <td>II (2001-)</td>\n",
       "      <td>Tak</td>\n",
       "      <td>NaN</td>\n",
       "      <td>NaN</td>\n",
       "      <td>NaN</td>\n",
       "      <td>NaN</td>\n",
       "      <td>NaN</td>\n",
       "      <td>NaN</td>\n",
       "      <td>NaN</td>\n",
       "      <td>NaN</td>\n",
       "      <td>Stany Zjednoczone</td>\n",
       "      <td>Tak</td>\n",
       "      <td>NaN</td>\n",
       "      <td>NaN</td>\n",
       "      <td>NaN</td>\n",
       "      <td>NaN</td>\n",
       "      <td>NaN</td>\n",
       "      <td>NaN</td>\n",
       "      <td>NaN</td>\n",
       "      <td>NaN</td>\n",
       "      <td>NaN</td>\n",
       "      <td>NaN</td>\n",
       "      <td>NaN</td>\n",
       "      <td>NaN</td>\n",
       "      <td>NaN</td>\n",
       "      <td>NaN</td>\n",
       "      <td>NaN</td>\n",
       "      <td>NaN</td>\n",
       "      <td>NaN</td>\n",
       "      <td>NaN</td>\n",
       "      <td>NaN</td>\n",
       "    </tr>\n",
       "    <tr>\n",
       "      <td>4</td>\n",
       "      <td>17900PLN</td>\n",
       "      <td>Osoby prywatnej</td>\n",
       "      <td>Osobowe</td>\n",
       "      <td>Ford</td>\n",
       "      <td>Galaxy</td>\n",
       "      <td>2006</td>\n",
       "      <td>224 000 km</td>\n",
       "      <td>1 997 cm3</td>\n",
       "      <td>Diesel</td>\n",
       "      <td>140 KM</td>\n",
       "      <td>Manualna</td>\n",
       "      <td>Na przednie koła</td>\n",
       "      <td>Minivan</td>\n",
       "      <td>5.0</td>\n",
       "      <td>7.0</td>\n",
       "      <td>Czarny</td>\n",
       "      <td>NaN</td>\n",
       "      <td>Używane</td>\n",
       "      <td>2.0 TDCi Ghia</td>\n",
       "      <td>Mk2 (2006-2015)</td>\n",
       "      <td>Tak</td>\n",
       "      <td>NaN</td>\n",
       "      <td>NaN</td>\n",
       "      <td>NaN</td>\n",
       "      <td>NaN</td>\n",
       "      <td>NaN</td>\n",
       "      <td>NaN</td>\n",
       "      <td>NaN</td>\n",
       "      <td>NaN</td>\n",
       "      <td>NaN</td>\n",
       "      <td>NaN</td>\n",
       "      <td>Tak</td>\n",
       "      <td>NaN</td>\n",
       "      <td>NaN</td>\n",
       "      <td>NaN</td>\n",
       "      <td>NaN</td>\n",
       "      <td>NaN</td>\n",
       "      <td>NaN</td>\n",
       "      <td>NaN</td>\n",
       "      <td>NaN</td>\n",
       "      <td>NaN</td>\n",
       "      <td>NaN</td>\n",
       "      <td>NaN</td>\n",
       "      <td>NaN</td>\n",
       "      <td>NaN</td>\n",
       "      <td>NaN</td>\n",
       "      <td>NaN</td>\n",
       "      <td>NaN</td>\n",
       "      <td>NaN</td>\n",
       "      <td>NaN</td>\n",
       "    </tr>\n",
       "  </tbody>\n",
       "</table>\n",
       "</div>"
      ],
      "text/plain": [
       "       Cena        Oferta od Kategoria Marka pojazdu   Model pojazdu  \\\n",
       "0  30800PLN  Osoby prywatnej   Osobowe           Kia       Pro_cee'd   \n",
       "1  10600PLN  Osoby prywatnej   Osobowe          Opel           Corsa   \n",
       "2  89790PLN  Osoby prywatnej   Osobowe           BMW         Seria 5   \n",
       "3  58500PLN  Osoby prywatnej   Osobowe      Chrysler  Town & Country   \n",
       "4  17900PLN  Osoby prywatnej   Osobowe          Ford          Galaxy   \n",
       "\n",
       "   Rok produkcji    Przebieg Pojemność skokowa Rodzaj paliwa     Moc  \\\n",
       "0           2013   75 000 km         1 582 cm3        Diesel  111 KM   \n",
       "1           2007   63 000 km         1 229 cm3       Benzyna   80 KM   \n",
       "2           2015  151 000 km         1 995 cm3        Diesel  184 KM   \n",
       "3           2014  158 000 km         3 605 cm3   Benzyna+LPG  283 KM   \n",
       "4           2006  224 000 km         1 997 cm3        Diesel  140 KM   \n",
       "\n",
       "  Skrzynia biegów                          Napęd            Typ  Liczba drzwi  \\\n",
       "0        Manualna               Na przednie koła        Kompakt           3.0   \n",
       "1        Manualna               Na przednie koła  Auta miejskie           3.0   \n",
       "2    Automatyczna  4x4 (dołączany automatycznie)          Sedan           NaN   \n",
       "3    Automatyczna               Na przednie koła        Minivan           5.0   \n",
       "4        Manualna               Na przednie koła        Minivan           5.0   \n",
       "\n",
       "   Liczba miejsc    Kolor Zarejestrowany w Polsce     Stan  \\\n",
       "0            5.0    Biały                     Tak  Używane   \n",
       "1            5.0  Srebrny                     Tak  Używane   \n",
       "2            NaN    Biały                     Tak  Używane   \n",
       "3            7.0  Srebrny                     Tak  Używane   \n",
       "4            7.0   Czarny                     NaN  Używane   \n",
       "\n",
       "                Wersja            Generacja Metalik Pierwsza rejestracja  \\\n",
       "0                  NaN                  NaN     NaN                  NaN   \n",
       "1        1.2 16V Enjoy        D (2006-2014)     Tak           29/12/2007   \n",
       "2  F10/F11 (2009-2017)  F10/F11 (2009-2017)     NaN                  NaN   \n",
       "3                  NaN           II (2001-)     Tak                  NaN   \n",
       "4        2.0 TDCi Ghia      Mk2 (2006-2015)     Tak                  NaN   \n",
       "\n",
       "  Bezwypadkowy Kod Silnika Możliwość finansowania Faktura VAT Leasing  \\\n",
       "0          NaN         NaN                    NaN         NaN     NaN   \n",
       "1          Tak         NaN                    NaN         NaN     NaN   \n",
       "2          Tak         520                    Tak         Tak     Tak   \n",
       "3          NaN         NaN                    NaN         NaN     NaN   \n",
       "4          NaN         NaN                    NaN         NaN     NaN   \n",
       "\n",
       "  Numer rejestracyjny pojazdu Serwisowany w ASO   Kraj pochodzenia  \\\n",
       "0                         NaN               NaN                NaN   \n",
       "1                         NaN               NaN                NaN   \n",
       "2                     WB908AP               Tak                NaN   \n",
       "3                         NaN               NaN  Stany Zjednoczone   \n",
       "4                         NaN               NaN                NaN   \n",
       "\n",
       "  Pierwszy właściciel VAT marża Miesięczna rata lub do (przebieg km)  \\\n",
       "0                 NaN       NaN             NaN                  NaN   \n",
       "1                 NaN       NaN             NaN                  NaN   \n",
       "2                 NaN       NaN             NaN                  NaN   \n",
       "3                 Tak       NaN             NaN                  NaN   \n",
       "4                 NaN       Tak             NaN                  NaN   \n",
       "\n",
       "  Filtr cząstek stałych Emisja CO2 Perłowy Homologacja ciężarowa  \\\n",
       "0                   NaN        NaN     NaN                   NaN   \n",
       "1                   NaN        NaN     NaN                   NaN   \n",
       "2                   NaN        NaN     NaN                   NaN   \n",
       "3                   NaN        NaN     NaN                   NaN   \n",
       "4                   NaN        NaN     NaN                   NaN   \n",
       "\n",
       "  Akryl (niemetalizowany) Gwarancja dealerska (w cenie) Uszkodzony Tuning  \\\n",
       "0                     NaN                           NaN        NaN    NaN   \n",
       "1                     NaN                           NaN        NaN    NaN   \n",
       "2                     NaN                           NaN        NaN    NaN   \n",
       "3                     NaN                           NaN        NaN    NaN   \n",
       "4                     NaN                           NaN        NaN    NaN   \n",
       "\n",
       "   VIN Matowy Okres gwarancji producenta Kierownica po prawej (Anglik)  \\\n",
       "0  NaN    NaN                        NaN                           NaN   \n",
       "1  NaN    NaN                        NaN                           NaN   \n",
       "2  NaN    NaN                        NaN                           NaN   \n",
       "3  NaN    NaN                        NaN                           NaN   \n",
       "4  NaN    NaN                        NaN                           NaN   \n",
       "\n",
       "  Opłata początkowa  Liczba pozostałych rat Wartość wykupu  \\\n",
       "0               NaN                     NaN            NaN   \n",
       "1               NaN                     NaN            NaN   \n",
       "2               NaN                     NaN            NaN   \n",
       "3               NaN                     NaN            NaN   \n",
       "4               NaN                     NaN            NaN   \n",
       "\n",
       "  Zarejestrowany jako zabytek  \n",
       "0                         NaN  \n",
       "1                         NaN  \n",
       "2                         NaN  \n",
       "3                         NaN  \n",
       "4                         NaN  "
      ]
     },
     "execution_count": 4,
     "metadata": {},
     "output_type": "execute_result"
    }
   ],
   "source": [
    "car_data.head()"
   ]
  },
  {
   "cell_type": "code",
   "execution_count": 5,
   "metadata": {},
   "outputs": [
    {
     "name": "stdout",
     "output_type": "stream",
     "text": [
      "Shape(rows, cols): (5014, 50)\n"
     ]
    }
   ],
   "source": [
    "print(\"Shape(rows, cols):\", car_data.shape)"
   ]
  },
  {
   "cell_type": "code",
   "execution_count": 6,
   "metadata": {},
   "outputs": [
    {
     "name": "stdout",
     "output_type": "stream",
     "text": [
      "Info:\n",
      "<class 'pandas.core.frame.DataFrame'>\n",
      "RangeIndex: 5014 entries, 0 to 5013\n",
      "Data columns (total 50 columns):\n",
      "Cena                             5014 non-null object\n",
      "Oferta od                        5014 non-null object\n",
      "Kategoria                        5014 non-null object\n",
      "Marka pojazdu                    5014 non-null object\n",
      "Model pojazdu                    5014 non-null object\n",
      "Rok produkcji                    5014 non-null int64\n",
      "Przebieg                         5014 non-null object\n",
      "Pojemność skokowa                4960 non-null object\n",
      "Rodzaj paliwa                    5014 non-null object\n",
      "Moc                              4962 non-null object\n",
      "Skrzynia biegów                  4965 non-null object\n",
      "Napęd                            4220 non-null object\n",
      "Typ                              5014 non-null object\n",
      "Liczba drzwi                     4874 non-null float64\n",
      "Liczba miejsc                    4389 non-null float64\n",
      "Kolor                            5014 non-null object\n",
      "Zarejestrowany w Polsce          2873 non-null object\n",
      "Stan                             5014 non-null object\n",
      "Wersja                           2454 non-null object\n",
      "Generacja                        3887 non-null object\n",
      "Metalik                          2988 non-null object\n",
      "Pierwsza rejestracja             1765 non-null object\n",
      "Bezwypadkowy                     3062 non-null object\n",
      "Kod Silnika                      160 non-null object\n",
      "Możliwość finansowania           2154 non-null object\n",
      "Faktura VAT                      646 non-null object\n",
      "Leasing                          610 non-null object\n",
      "Numer rejestracyjny pojazdu      662 non-null object\n",
      "Serwisowany w ASO                2786 non-null object\n",
      "Kraj pochodzenia                 3090 non-null object\n",
      "Pierwszy właściciel              1431 non-null object\n",
      "VAT marża                        1544 non-null object\n",
      "Miesięczna rata                  345 non-null object\n",
      "lub do (przebieg km)             97 non-null object\n",
      "Filtr cząstek stałych            521 non-null object\n",
      "Emisja CO2                       134 non-null object\n",
      "Perłowy                          678 non-null object\n",
      "Homologacja ciężarowa            44 non-null object\n",
      "Akryl (niemetalizowany)          157 non-null object\n",
      "Gwarancja dealerska (w cenie)    75 non-null object\n",
      "Uszkodzony                       80 non-null object\n",
      "Tuning                           48 non-null object\n",
      "VIN                              7 non-null object\n",
      "Matowy                           23 non-null object\n",
      "Okres gwarancji producenta       31 non-null object\n",
      "Kierownica po prawej (Anglik)    9 non-null object\n",
      "Opłata początkowa                5 non-null object\n",
      "Liczba pozostałych rat           5 non-null float64\n",
      "Wartość wykupu                   5 non-null object\n",
      "Zarejestrowany jako zabytek      1 non-null object\n",
      "dtypes: float64(3), int64(1), object(46)\n",
      "memory usage: 1.9+ MB\n",
      "None\n"
     ]
    }
   ],
   "source": [
    "print(\"Info:\") \n",
    "print(car_data.info())"
   ]
  },
  {
   "cell_type": "code",
   "execution_count": 7,
   "metadata": {},
   "outputs": [
    {
     "data": {
      "text/html": [
       "<div>\n",
       "<style scoped>\n",
       "    .dataframe tbody tr th:only-of-type {\n",
       "        vertical-align: middle;\n",
       "    }\n",
       "\n",
       "    .dataframe tbody tr th {\n",
       "        vertical-align: top;\n",
       "    }\n",
       "\n",
       "    .dataframe thead th {\n",
       "        text-align: right;\n",
       "    }\n",
       "</style>\n",
       "<table border=\"1\" class=\"dataframe\">\n",
       "  <thead>\n",
       "    <tr style=\"text-align: right;\">\n",
       "      <th></th>\n",
       "      <th>Rok produkcji</th>\n",
       "      <th>Liczba drzwi</th>\n",
       "      <th>Liczba miejsc</th>\n",
       "      <th>Liczba pozostałych rat</th>\n",
       "    </tr>\n",
       "  </thead>\n",
       "  <tbody>\n",
       "    <tr>\n",
       "      <td>count</td>\n",
       "      <td>5014.00</td>\n",
       "      <td>4874.00</td>\n",
       "      <td>4389.00</td>\n",
       "      <td>5.00</td>\n",
       "    </tr>\n",
       "    <tr>\n",
       "      <td>mean</td>\n",
       "      <td>2010.93</td>\n",
       "      <td>4.68</td>\n",
       "      <td>5.04</td>\n",
       "      <td>27.20</td>\n",
       "    </tr>\n",
       "    <tr>\n",
       "      <td>std</td>\n",
       "      <td>3.03</td>\n",
       "      <td>0.70</td>\n",
       "      <td>0.66</td>\n",
       "      <td>5.26</td>\n",
       "    </tr>\n",
       "    <tr>\n",
       "      <td>min</td>\n",
       "      <td>2005.00</td>\n",
       "      <td>2.00</td>\n",
       "      <td>2.00</td>\n",
       "      <td>21.00</td>\n",
       "    </tr>\n",
       "    <tr>\n",
       "      <td>25%</td>\n",
       "      <td>2009.00</td>\n",
       "      <td>5.00</td>\n",
       "      <td>5.00</td>\n",
       "      <td>24.00</td>\n",
       "    </tr>\n",
       "    <tr>\n",
       "      <td>50%</td>\n",
       "      <td>2011.00</td>\n",
       "      <td>5.00</td>\n",
       "      <td>5.00</td>\n",
       "      <td>26.00</td>\n",
       "    </tr>\n",
       "    <tr>\n",
       "      <td>75%</td>\n",
       "      <td>2014.00</td>\n",
       "      <td>5.00</td>\n",
       "      <td>5.00</td>\n",
       "      <td>31.00</td>\n",
       "    </tr>\n",
       "    <tr>\n",
       "      <td>max</td>\n",
       "      <td>2015.00</td>\n",
       "      <td>6.00</td>\n",
       "      <td>9.00</td>\n",
       "      <td>34.00</td>\n",
       "    </tr>\n",
       "  </tbody>\n",
       "</table>\n",
       "</div>"
      ],
      "text/plain": [
       "       Rok produkcji  Liczba drzwi  Liczba miejsc  Liczba pozostałych rat\n",
       "count        5014.00       4874.00        4389.00                    5.00\n",
       "mean         2010.93          4.68           5.04                   27.20\n",
       "std             3.03          0.70           0.66                    5.26\n",
       "min          2005.00          2.00           2.00                   21.00\n",
       "25%          2009.00          5.00           5.00                   24.00\n",
       "50%          2011.00          5.00           5.00                   26.00\n",
       "75%          2014.00          5.00           5.00                   31.00\n",
       "max          2015.00          6.00           9.00                   34.00"
      ]
     },
     "execution_count": 7,
     "metadata": {},
     "output_type": "execute_result"
    }
   ],
   "source": [
    "car_data.describe()"
   ]
  },
  {
   "cell_type": "markdown",
   "metadata": {},
   "source": [
    "#### Comment:\n",
    "\n",
    "Dataset consists of 5014 observations (rows) and 50 attributes (columns). It is very small dataset. Moreover, there is a lot missing data."
   ]
  },
  {
   "cell_type": "markdown",
   "metadata": {},
   "source": [
    "### Modelling raw data (pre-cleaning):\n",
    "\n",
    "Firstly, I decided to drop columns which, IMO, do not have impact on the price (e.g. info about registration, invoice, homogeneous columns (Kategoria, Stan) etc.)."
   ]
  },
  {
   "cell_type": "code",
   "execution_count": 8,
   "metadata": {},
   "outputs": [],
   "source": [
    "# Deleting useless cols\n",
    "car_data.drop(columns=['Oferta od', 'Kategoria', 'Pierwsza rejestracja', 'Możliwość finansowania', 'Faktura VAT', \n",
    "                       'Leasing', 'Numer rejestracyjny pojazdu', 'VAT marża', 'Miesięczna rata', 'lub do (przebieg km)',\n",
    "                       'VIN', 'Okres gwarancji producenta', 'Opłata początkowa', 'Liczba pozostałych rat', \n",
    "                       'Wartość wykupu', 'Stan'], inplace=True)"
   ]
  },
  {
   "cell_type": "markdown",
   "metadata": {},
   "source": [
    "#### Comment:\n",
    "\n",
    "Although the percentage of missing values for some attributes is high, deleting these columns is not so obvious - in some cases 'NaN' means 'No' what can be crucial information for our model. Moreover, it is good to check how many unique and not 'Nan' values we have in \"missing\" columns."
   ]
  },
  {
   "cell_type": "code",
   "execution_count": 9,
   "metadata": {},
   "outputs": [
    {
     "data": {
      "text/html": [
       "<div>\n",
       "<style scoped>\n",
       "    .dataframe tbody tr th:only-of-type {\n",
       "        vertical-align: middle;\n",
       "    }\n",
       "\n",
       "    .dataframe tbody tr th {\n",
       "        vertical-align: top;\n",
       "    }\n",
       "\n",
       "    .dataframe thead th {\n",
       "        text-align: right;\n",
       "    }\n",
       "</style>\n",
       "<table border=\"1\" class=\"dataframe\">\n",
       "  <thead>\n",
       "    <tr style=\"text-align: right;\">\n",
       "      <th></th>\n",
       "      <th>percentage</th>\n",
       "      <th>unique</th>\n",
       "      <th>not_nan</th>\n",
       "    </tr>\n",
       "  </thead>\n",
       "  <tbody>\n",
       "    <tr>\n",
       "      <td>Zarejestrowany jako zabytek</td>\n",
       "      <td>99.98</td>\n",
       "      <td>1</td>\n",
       "      <td>1</td>\n",
       "    </tr>\n",
       "    <tr>\n",
       "      <td>Kierownica po prawej (Anglik)</td>\n",
       "      <td>99.82</td>\n",
       "      <td>1</td>\n",
       "      <td>9</td>\n",
       "    </tr>\n",
       "    <tr>\n",
       "      <td>Matowy</td>\n",
       "      <td>99.54</td>\n",
       "      <td>1</td>\n",
       "      <td>23</td>\n",
       "    </tr>\n",
       "    <tr>\n",
       "      <td>Homologacja ciężarowa</td>\n",
       "      <td>99.12</td>\n",
       "      <td>1</td>\n",
       "      <td>44</td>\n",
       "    </tr>\n",
       "    <tr>\n",
       "      <td>Tuning</td>\n",
       "      <td>99.04</td>\n",
       "      <td>1</td>\n",
       "      <td>48</td>\n",
       "    </tr>\n",
       "    <tr>\n",
       "      <td>Gwarancja dealerska (w cenie)</td>\n",
       "      <td>98.50</td>\n",
       "      <td>4</td>\n",
       "      <td>75</td>\n",
       "    </tr>\n",
       "    <tr>\n",
       "      <td>Uszkodzony</td>\n",
       "      <td>98.40</td>\n",
       "      <td>1</td>\n",
       "      <td>80</td>\n",
       "    </tr>\n",
       "    <tr>\n",
       "      <td>Emisja CO2</td>\n",
       "      <td>97.33</td>\n",
       "      <td>59</td>\n",
       "      <td>134</td>\n",
       "    </tr>\n",
       "    <tr>\n",
       "      <td>Akryl (niemetalizowany)</td>\n",
       "      <td>96.87</td>\n",
       "      <td>1</td>\n",
       "      <td>157</td>\n",
       "    </tr>\n",
       "    <tr>\n",
       "      <td>Kod Silnika</td>\n",
       "      <td>96.81</td>\n",
       "      <td>52</td>\n",
       "      <td>160</td>\n",
       "    </tr>\n",
       "    <tr>\n",
       "      <td>Filtr cząstek stałych</td>\n",
       "      <td>89.61</td>\n",
       "      <td>1</td>\n",
       "      <td>521</td>\n",
       "    </tr>\n",
       "    <tr>\n",
       "      <td>Perłowy</td>\n",
       "      <td>86.48</td>\n",
       "      <td>1</td>\n",
       "      <td>678</td>\n",
       "    </tr>\n",
       "    <tr>\n",
       "      <td>Pierwszy właściciel</td>\n",
       "      <td>71.46</td>\n",
       "      <td>1</td>\n",
       "      <td>1431</td>\n",
       "    </tr>\n",
       "    <tr>\n",
       "      <td>Wersja</td>\n",
       "      <td>51.06</td>\n",
       "      <td>1534</td>\n",
       "      <td>2454</td>\n",
       "    </tr>\n",
       "    <tr>\n",
       "      <td>Serwisowany w ASO</td>\n",
       "      <td>44.44</td>\n",
       "      <td>1</td>\n",
       "      <td>2786</td>\n",
       "    </tr>\n",
       "    <tr>\n",
       "      <td>Zarejestrowany w Polsce</td>\n",
       "      <td>42.70</td>\n",
       "      <td>1</td>\n",
       "      <td>2873</td>\n",
       "    </tr>\n",
       "    <tr>\n",
       "      <td>Metalik</td>\n",
       "      <td>40.41</td>\n",
       "      <td>2</td>\n",
       "      <td>2988</td>\n",
       "    </tr>\n",
       "    <tr>\n",
       "      <td>Bezwypadkowy</td>\n",
       "      <td>38.93</td>\n",
       "      <td>1</td>\n",
       "      <td>3062</td>\n",
       "    </tr>\n",
       "    <tr>\n",
       "      <td>Kraj pochodzenia</td>\n",
       "      <td>38.37</td>\n",
       "      <td>19</td>\n",
       "      <td>3090</td>\n",
       "    </tr>\n",
       "    <tr>\n",
       "      <td>Generacja</td>\n",
       "      <td>22.48</td>\n",
       "      <td>244</td>\n",
       "      <td>3887</td>\n",
       "    </tr>\n",
       "    <tr>\n",
       "      <td>Napęd</td>\n",
       "      <td>15.84</td>\n",
       "      <td>5</td>\n",
       "      <td>4220</td>\n",
       "    </tr>\n",
       "    <tr>\n",
       "      <td>Liczba miejsc</td>\n",
       "      <td>12.47</td>\n",
       "      <td>8</td>\n",
       "      <td>4389</td>\n",
       "    </tr>\n",
       "    <tr>\n",
       "      <td>Liczba drzwi</td>\n",
       "      <td>2.79</td>\n",
       "      <td>5</td>\n",
       "      <td>4874</td>\n",
       "    </tr>\n",
       "    <tr>\n",
       "      <td>Pojemność skokowa</td>\n",
       "      <td>1.08</td>\n",
       "      <td>282</td>\n",
       "      <td>4960</td>\n",
       "    </tr>\n",
       "    <tr>\n",
       "      <td>Moc</td>\n",
       "      <td>1.04</td>\n",
       "      <td>269</td>\n",
       "      <td>4962</td>\n",
       "    </tr>\n",
       "    <tr>\n",
       "      <td>Skrzynia biegów</td>\n",
       "      <td>0.98</td>\n",
       "      <td>2</td>\n",
       "      <td>4965</td>\n",
       "    </tr>\n",
       "  </tbody>\n",
       "</table>\n",
       "</div>"
      ],
      "text/plain": [
       "                               percentage  unique  not_nan\n",
       "Zarejestrowany jako zabytek         99.98       1        1\n",
       "Kierownica po prawej (Anglik)       99.82       1        9\n",
       "Matowy                              99.54       1       23\n",
       "Homologacja ciężarowa               99.12       1       44\n",
       "Tuning                              99.04       1       48\n",
       "Gwarancja dealerska (w cenie)       98.50       4       75\n",
       "Uszkodzony                          98.40       1       80\n",
       "Emisja CO2                          97.33      59      134\n",
       "Akryl (niemetalizowany)             96.87       1      157\n",
       "Kod Silnika                         96.81      52      160\n",
       "Filtr cząstek stałych               89.61       1      521\n",
       "Perłowy                             86.48       1      678\n",
       "Pierwszy właściciel                 71.46       1     1431\n",
       "Wersja                              51.06    1534     2454\n",
       "Serwisowany w ASO                   44.44       1     2786\n",
       "Zarejestrowany w Polsce             42.70       1     2873\n",
       "Metalik                             40.41       2     2988\n",
       "Bezwypadkowy                        38.93       1     3062\n",
       "Kraj pochodzenia                    38.37      19     3090\n",
       "Generacja                           22.48     244     3887\n",
       "Napęd                               15.84       5     4220\n",
       "Liczba miejsc                       12.47       8     4389\n",
       "Liczba drzwi                         2.79       5     4874\n",
       "Pojemność skokowa                    1.08     282     4960\n",
       "Moc                                  1.04     269     4962\n",
       "Skrzynia biegów                      0.98       2     4965"
      ]
     },
     "execution_count": 9,
     "metadata": {},
     "output_type": "execute_result"
    }
   ],
   "source": [
    "# Percentage of missing values for each attribute\n",
    "miss_vals = (car_data.isnull().sum() / len(car_data)) * 100\n",
    "\n",
    "# Attributes with missing data only\n",
    "feat_miss = miss_vals[miss_vals != 0].sort_values(ascending=False)\n",
    "\n",
    "# DF for missing values with info about number of unique (NaN not included!) and not NaN values\n",
    "df_feat_miss_unique = pd.DataFrame(feat_miss).rename(columns={0: 'percentage'})\n",
    "df_feat_miss_unique['unique'] = car_data[feat_miss.index].nunique()\n",
    "df_feat_miss_unique['not_nan'] = car_data[feat_miss.index].notnull().sum()\n",
    "df_feat_miss_unique"
   ]
  },
  {
   "cell_type": "markdown",
   "metadata": {},
   "source": [
    "#### Comment:\n",
    "\n",
    "According to the above I decided to drop all columns with percentage of missing data > 85. For the rest, if number of unique values = 1, NaN will be replaced with opposite value to the unique one."
   ]
  },
  {
   "cell_type": "code",
   "execution_count": 10,
   "metadata": {},
   "outputs": [],
   "source": [
    "# Columns with at least 85% of missing values\n",
    "feat_miss_85 = miss_vals[miss_vals > 85].index\n",
    "\n",
    "# Deleting cols with at least 85% of missing values\n",
    "car_data.drop(columns=feat_miss_85, inplace=True)"
   ]
  },
  {
   "cell_type": "code",
   "execution_count": 11,
   "metadata": {},
   "outputs": [],
   "source": [
    "# Changing column names\n",
    "car_data.rename(columns={'Marka pojazdu': 'Marka', 'Model pojazdu': 'Model', 'Rok produkcji': 'Rok_prod', \n",
    "                         'Pojemność skokowa': 'Pojemność', 'Rodzaj paliwa': 'Paliwo', 'Skrzynia biegów': 'Skrzynia', \n",
    "                         'Liczba drzwi': 'L_drzwi', 'Liczba miejsc': 'L_miejsc', \n",
    "                         'Zarejestrowany w Polsce': 'Zarej_w_PL', 'Bezwypadkowy': 'Bezwyp', \n",
    "                         'Serwisowany w ASO': 'Serwis_ASO', 'Kraj pochodzenia': 'Kraj_prod', \n",
    "                         'Pierwszy właściciel': '1_właść'}, inplace=True)"
   ]
  },
  {
   "cell_type": "code",
   "execution_count": 12,
   "metadata": {},
   "outputs": [],
   "source": [
    "# Changing data types on categorical\n",
    "car_data['L_drzwi'] = car_data['L_drzwi'].astype('object')\n",
    "car_data['L_miejsc'] = car_data['L_miejsc'].astype('object')\n",
    "car_data['Rok_prod'] = car_data['Rok_prod'].astype('object')"
   ]
  },
  {
   "cell_type": "code",
   "execution_count": 13,
   "metadata": {},
   "outputs": [],
   "source": [
    "# Removing currency (PLN) and changing datatype\n",
    "car_data['Cena'] = car_data['Cena'].apply(lambda x: re.match('^([0-9]+)', x).group()).astype('int64')"
   ]
  },
  {
   "cell_type": "code",
   "execution_count": 14,
   "metadata": {},
   "outputs": [],
   "source": [
    "# Removing unit (km) and changing datatype\n",
    "car_data['Przebieg'] = car_data['Przebieg'].apply(lambda x: re.match('^([0-9]+)', x.replace(\" \", \"\")).group()).astype('int64')"
   ]
  },
  {
   "cell_type": "code",
   "execution_count": 15,
   "metadata": {},
   "outputs": [],
   "source": [
    "# Replacing NaN values with '0' (string) to have possibility to use '.replace' and regex\n",
    "car_data['Pojemność'] = car_data['Pojemność'].fillna('0')\n",
    "# Removing unit (cm3) and changing datatype\n",
    "car_data['Pojemność'] = car_data['Pojemność'].apply(lambda x: re.match('^([0-9]+)', x.replace(\" \", \"\")).group()).astype('int64')\n",
    "# Replacing zeros ('0') back to NaN values\n",
    "car_data.loc[car_data['Pojemność'] == 0, 'Pojemność'] = np.nan"
   ]
  },
  {
   "cell_type": "code",
   "execution_count": 16,
   "metadata": {},
   "outputs": [],
   "source": [
    "# Replacing NaN values with '0' (string) to have possibility to use '.replace' and regex\n",
    "car_data['Moc'] = car_data['Moc'].fillna('0')\n",
    "# Removing unit (KM) and changing datatype\n",
    "car_data['Moc'] = car_data['Moc'].apply(lambda x: re.match('^([0-9]+)', x.replace(\" \", \"\")).group()).astype('int64')\n",
    "# Replacing zeros ('0') back to NaN values\n",
    "car_data.loc[car_data['Moc'] == 0, 'Moc'] = np.nan"
   ]
  },
  {
   "cell_type": "code",
   "execution_count": 17,
   "metadata": {},
   "outputs": [],
   "source": [
    "# Unification of values in 'Metalik' column ('metallic' value equals to 'Tak')\n",
    "car_data.loc[car_data['Metalik'] == 'metallic', 'Metalik'] = \"Tak\""
   ]
  },
  {
   "cell_type": "code",
   "execution_count": 18,
   "metadata": {},
   "outputs": [],
   "source": [
    "# Replacing NaN values with opposite value for binary categories\n",
    "car_data['Zarej_w_PL'] = car_data['Zarej_w_PL'].fillna('Nie')\n",
    "car_data['Metalik'] = car_data['Metalik'].fillna('Nie')\n",
    "car_data['Bezwyp'] = car_data['Bezwyp'].fillna('Nie')\n",
    "car_data['Serwis_ASO'] = car_data['Serwis_ASO'].fillna('Nie')\n",
    "car_data['1_właść'] = car_data['1_właść'].fillna('Nie')"
   ]
  },
  {
   "cell_type": "code",
   "execution_count": 19,
   "metadata": {},
   "outputs": [
    {
     "name": "stdout",
     "output_type": "stream",
     "text": [
      "<class 'pandas.core.frame.DataFrame'>\n",
      "RangeIndex: 5014 entries, 0 to 5013\n",
      "Data columns (total 22 columns):\n",
      "Cena          5014 non-null int64\n",
      "Marka         5014 non-null object\n",
      "Model         5014 non-null object\n",
      "Rok_prod      5014 non-null object\n",
      "Przebieg      5014 non-null int64\n",
      "Pojemność     4960 non-null float64\n",
      "Paliwo        5014 non-null object\n",
      "Moc           4962 non-null float64\n",
      "Skrzynia      4965 non-null object\n",
      "Napęd         4220 non-null object\n",
      "Typ           5014 non-null object\n",
      "L_drzwi       4874 non-null object\n",
      "L_miejsc      4389 non-null object\n",
      "Kolor         5014 non-null object\n",
      "Zarej_w_PL    5014 non-null object\n",
      "Wersja        2454 non-null object\n",
      "Generacja     3887 non-null object\n",
      "Metalik       5014 non-null object\n",
      "Bezwyp        5014 non-null object\n",
      "Serwis_ASO    5014 non-null object\n",
      "Kraj_prod     3090 non-null object\n",
      "1_właść       5014 non-null object\n",
      "dtypes: float64(2), int64(2), object(18)\n",
      "memory usage: 861.9+ KB\n"
     ]
    }
   ],
   "source": [
    "car_data.info()"
   ]
  },
  {
   "cell_type": "markdown",
   "metadata": {},
   "source": [
    "### Data visualization:\n",
    "#### Split into numerical and categorical values:"
   ]
  },
  {
   "cell_type": "code",
   "execution_count": 20,
   "metadata": {},
   "outputs": [],
   "source": [
    "num_cols = []\n",
    "cat_cols = []\n",
    "\n",
    "for col in car_data.columns:\n",
    "    if car_data.dtypes[col] in ['int64', 'float64']:\n",
    "        num_cols.append(col)\n",
    "    else:\n",
    "        cat_cols.append(col)\n",
    "\n",
    "num_data = car_data[num_cols]\n",
    "cat_data = car_data[cat_cols]"
   ]
  },
  {
   "cell_type": "markdown",
   "metadata": {},
   "source": [
    "#### - Numerical data:"
   ]
  },
  {
   "cell_type": "code",
   "execution_count": 21,
   "metadata": {},
   "outputs": [
    {
     "data": {
      "text/plain": [
       "array([[<matplotlib.axes._subplots.AxesSubplot object at 0x0000006A48D22448>,\n",
       "        <matplotlib.axes._subplots.AxesSubplot object at 0x0000006A48D73288>],\n",
       "       [<matplotlib.axes._subplots.AxesSubplot object at 0x0000006A48DABCC8>,\n",
       "        <matplotlib.axes._subplots.AxesSubplot object at 0x0000006A48DE3DC8>]],\n",
       "      dtype=object)"
      ]
     },
     "execution_count": 21,
     "metadata": {},
     "output_type": "execute_result"
    },
    {
     "data": {
      "image/png": "[encoded data removed]",
      "text/plain": [
       "<Figure size 1440x1080 with 4 Axes>"
      ]
     },
     "metadata": {
      "needs_background": "light"
     },
     "output_type": "display_data"
    }
   ],
   "source": [
    "num_data.hist(bins=50, figsize=(20, 15))"
   ]
  },
  {
   "cell_type": "markdown",
   "metadata": {},
   "source": [
    "#### Comment:\n",
    "\n",
    "1. Generally, above histograms are characterized by heavy-tailed distribution and it can be problematic for ML algorithms to find patterns in data.\n",
    "2. Attributes has different scales so probably there is a need to use scalling."
   ]
  },
  {
   "cell_type": "code",
   "execution_count": 22,
   "metadata": {},
   "outputs": [
    {
     "name": "stdout",
     "output_type": "stream",
     "text": [
      "           Cena  Przebieg  Pojemność   Moc\n",
      "Cena       1.00     -0.27       0.59  0.71\n",
      "Przebieg  -0.27      1.00       0.13  0.02\n",
      "Pojemność  0.59      0.13       1.00  0.89\n",
      "Moc        0.71      0.02       0.89  1.00\n"
     ]
    },
    {
     "data": {
      "text/plain": [
       "<matplotlib.axes._subplots.AxesSubplot at 0x6a49f63608>"
      ]
     },
     "execution_count": 22,
     "metadata": {},
     "output_type": "execute_result"
    },
    {
     "data": {
      "image/png": "[encoded data removed]",
      "text/plain": [
       "<Figure size 432x288 with 2 Axes>"
      ]
     },
     "metadata": {
      "needs_background": "light"
     },
     "output_type": "display_data"
    }
   ],
   "source": [
    "correlation = num_data.corr()\n",
    "print(correlation)\n",
    "\n",
    "sns.heatmap(correlation)"
   ]
  },
  {
   "cell_type": "markdown",
   "metadata": {},
   "source": [
    "#### Comment:\n",
    "\n",
    "The price (Cena) the most depends on engine volume (Pojemność) and engine power (Moc), the least - mileage (Przebieg). The total highest correlation is between engine volume (Pojemność) engine power (Moc) - it is rather logical. "
   ]
  },
  {
   "cell_type": "markdown",
   "metadata": {},
   "source": [
    "#### - Categorical data:"
   ]
  },
  {
   "cell_type": "code",
   "execution_count": 23,
   "metadata": {},
   "outputs": [
    {
     "data": {
      "image/png": "[encoded data removed]",
      "text/plain": [
       "<Figure size 720x288 with 1 Axes>"
      ]
     },
     "metadata": {
      "needs_background": "light"
     },
     "output_type": "display_data"
    },
    {
     "data": {
      "image/png": "[encoded data removed]",
      "text/plain": [
       "<Figure size 720x288 with 1 Axes>"
      ]
     },
     "metadata": {
      "needs_background": "light"
     },
     "output_type": "display_data"
    },
    {
     "data": {
      "image/png": "[encoded data removed]",
      "text/plain": [
       "<Figure size 720x288 with 1 Axes>"
      ]
     },
     "metadata": {
      "needs_background": "light"
     },
     "output_type": "display_data"
    },
    {
     "data": {
      "image/png": "[encoded data removed]",
      "text/plain": [
       "<Figure size 720x288 with 1 Axes>"
      ]
     },
     "metadata": {
      "needs_background": "light"
     },
     "output_type": "display_data"
    },
    {
     "data": {
      "image/png": "[encoded data removed]",
      "text/plain": [
       "<Figure size 720x288 with 1 Axes>"
      ]
     },
     "metadata": {
      "needs_background": "light"
     },
     "output_type": "display_data"
    },
    {
     "data": {
      "image/png": "[encoded data removed]",
      "text/plain": [
       "<Figure size 720x288 with 1 Axes>"
      ]
     },
     "metadata": {
      "needs_background": "light"
     },
     "output_type": "display_data"
    },
    {
     "data": {
      "image/png": "[encoded data removed]",
      "text/plain": [
       "<Figure size 720x288 with 1 Axes>"
      ]
     },
     "metadata": {
      "needs_background": "light"
     },
     "output_type": "display_data"
    },
    {
     "data": {
      "image/png": "[encoded data removed]",
      "text/plain": [
       "<Figure size 720x288 with 1 Axes>"
      ]
     },
     "metadata": {
      "needs_background": "light"
     },
     "output_type": "display_data"
    },
    {
     "data": {
      "image/png": "[encoded data removed]",
      "text/plain": [
       "<Figure size 720x288 with 1 Axes>"
      ]
     },
     "metadata": {
      "needs_background": "light"
     },
     "output_type": "display_data"
    },
    {
     "data": {
      "image/png": "[encoded data removed]",
      "text/plain": [
       "<Figure size 720x288 with 1 Axes>"
      ]
     },
     "metadata": {
      "needs_background": "light"
     },
     "output_type": "display_data"
    },
    {
     "data": {
      "image/png": "[encoded data removed]",
      "text/plain": [
       "<Figure size 720x288 with 1 Axes>"
      ]
     },
     "metadata": {
      "needs_background": "light"
     },
     "output_type": "display_data"
    },
    {
     "data": {
      "image/png": "[encoded data removed]",
      "text/plain": [
       "<Figure size 720x288 with 1 Axes>"
      ]
     },
     "metadata": {
      "needs_background": "light"
     },
     "output_type": "display_data"
    },
    {
     "data": {
      "image/png": "[encoded data removed]",
      "text/plain": [
       "<Figure size 720x288 with 1 Axes>"
      ]
     },
     "metadata": {
      "needs_background": "light"
     },
     "output_type": "display_data"
    },
    {
     "data": {
      "image/png": "[encoded data removed]",
      "text/plain": [
       "<Figure size 720x288 with 1 Axes>"
      ]
     },
     "metadata": {
      "needs_background": "light"
     },
     "output_type": "display_data"
    },
    {
     "data": {
      "image/png": "[encoded data removed]",
      "text/plain": [
       "<Figure size 720x288 with 1 Axes>"
      ]
     },
     "metadata": {
      "needs_background": "light"
     },
     "output_type": "display_data"
    },
    {
     "data": {
      "image/png": "[encoded data removed]",
      "text/plain": [
       "<Figure size 720x288 with 1 Axes>"
      ]
     },
     "metadata": {
      "needs_background": "light"
     },
     "output_type": "display_data"
    },
    {
     "data": {
      "image/png": "[encoded data removed]",
      "text/plain": [
       "<Figure size 720x288 with 1 Axes>"
      ]
     },
     "metadata": {
      "needs_background": "light"
     },
     "output_type": "display_data"
    },
    {
     "data": {
      "image/png": "[encoded data removed]",
      "text/plain": [
       "<Figure size 720x288 with 1 Axes>"
      ]
     },
     "metadata": {
      "needs_background": "light"
     },
     "output_type": "display_data"
    }
   ],
   "source": [
    "for col in cat_data.columns:\n",
    "    cat_data[col].value_counts().plot(kind='bar', figsize=(10,4))\n",
    "    plt.title(col)\n",
    "    plt.show()"
   ]
  },
  {
   "cell_type": "markdown",
   "metadata": {},
   "source": [
    "## 3. Data preprocessing"
   ]
  },
  {
   "cell_type": "markdown",
   "metadata": {},
   "source": [
    "### Outliers"
   ]
  },
  {
   "cell_type": "code",
   "execution_count": 24,
   "metadata": {},
   "outputs": [
    {
     "name": "stdout",
     "output_type": "stream",
     "text": [
      "Cena 279\n",
      "Przebieg 60\n",
      "Pojemność 0\n",
      "Moc 0\n"
     ]
    },
    {
     "name": "stderr",
     "output_type": "stream",
     "text": [
      "C:\\Users\\Maciek\\Anaconda3\\lib\\site-packages\\numpy\\lib\\function_base.py:3826: RuntimeWarning: Invalid value encountered in percentile\n",
      "  interpolation=interpolation)\n"
     ]
    }
   ],
   "source": [
    "def idxs_of_outliers(x):\n",
    "    \"\"\"Returns indexes of rows with outliers which are > 1.5 IQR or < 1.5 IQR\"\"\"\n",
    "    q1, q3 = np.percentile(x, [25, 75])\n",
    "    iqr = q3 - q1\n",
    "    lower_bound = q1 - (iqr * 1.5)\n",
    "    upper_bound = q3 + (iqr * 1.5)\n",
    "    return np.where((x > upper_bound) | (x < lower_bound))\n",
    "\n",
    "# Number of outliers in numerical columns\n",
    "# Reminder: num_cols = ['Cena', 'Przebieg', 'Pojemność', 'Moc']\n",
    "for col in num_cols:\n",
    "    idxs = idxs_of_outliers(car_data[col])\n",
    "    print(col, len(idxs[0]))"
   ]
  },
  {
   "cell_type": "code",
   "execution_count": 25,
   "metadata": {},
   "outputs": [
    {
     "name": "stdout",
     "output_type": "stream",
     "text": [
      "car_data:\n",
      "(4675, 22)\n",
      "           Cena   Przebieg  Pojemność      Moc\n",
      "count   4675.00    4675.00    4627.00  4626.00\n",
      "mean   34273.05  168936.45    1883.33   146.39\n",
      "std    18754.77   65714.85     588.91    57.97\n",
      "min     3000.00     172.00     400.00     1.00\n",
      "25%    19900.00  120760.50    1560.00   110.00\n",
      "50%    29900.00  169100.00    1900.00   140.00\n",
      "75%    45000.00  211243.00    1997.00   170.00\n",
      "max    92250.00  350000.00    6200.00   544.00\n"
     ]
    }
   ],
   "source": [
    "# list of unique indexes with outliers\n",
    "outliers = list(set(idxs_of_outliers(car_data['Cena'])[0].tolist() + idxs_of_outliers(car_data['Przebieg'])[0].tolist()))\n",
    "\n",
    "# Dropping of indexes with outliers from train set\n",
    "car_data.drop(car_data.index[outliers], inplace=True)\n",
    "print(\"car_data:\")\n",
    "print(car_data.shape)\n",
    "print(car_data.describe())"
   ]
  },
  {
   "cell_type": "markdown",
   "metadata": {},
   "source": [
    "### Extracting train and test set"
   ]
  },
  {
   "cell_type": "code",
   "execution_count": 26,
   "metadata": {},
   "outputs": [],
   "source": [
    "from sklearn.model_selection import train_test_split\n",
    "\n",
    "train_set, test_set = train_test_split(car_data, test_size=0.2, random_state=1)"
   ]
  },
  {
   "cell_type": "code",
   "execution_count": 27,
   "metadata": {},
   "outputs": [
    {
     "name": "stdout",
     "output_type": "stream",
     "text": [
      "(3740, 22)\n",
      "(935, 22)\n"
     ]
    }
   ],
   "source": [
    "print(train_set.shape)\n",
    "print(test_set.shape)"
   ]
  },
  {
   "cell_type": "markdown",
   "metadata": {},
   "source": [
    "## TRAIN SET"
   ]
  },
  {
   "cell_type": "markdown",
   "metadata": {},
   "source": [
    "### Extracting target from the train set"
   ]
  },
  {
   "cell_type": "code",
   "execution_count": 28,
   "metadata": {},
   "outputs": [
    {
     "name": "stdout",
     "output_type": "stream",
     "text": [
      "(3740, 21)\n",
      "(3740,)\n"
     ]
    }
   ],
   "source": [
    "X = train_set.drop('Cena', axis=1)\n",
    "y = train_set['Cena']\n",
    "\n",
    "print(X.shape)\n",
    "print(y.shape)"
   ]
  },
  {
   "cell_type": "markdown",
   "metadata": {},
   "source": [
    "### Preprocessing"
   ]
  },
  {
   "cell_type": "markdown",
   "metadata": {},
   "source": [
    "#### - Missing values:"
   ]
  },
  {
   "cell_type": "code",
   "execution_count": 29,
   "metadata": {},
   "outputs": [
    {
     "data": {
      "text/html": [
       "<div>\n",
       "<style scoped>\n",
       "    .dataframe tbody tr th:only-of-type {\n",
       "        vertical-align: middle;\n",
       "    }\n",
       "\n",
       "    .dataframe tbody tr th {\n",
       "        vertical-align: top;\n",
       "    }\n",
       "\n",
       "    .dataframe thead th {\n",
       "        text-align: right;\n",
       "    }\n",
       "</style>\n",
       "<table border=\"1\" class=\"dataframe\">\n",
       "  <thead>\n",
       "    <tr style=\"text-align: right;\">\n",
       "      <th></th>\n",
       "      <th>Skrzynia</th>\n",
       "      <th>Napęd</th>\n",
       "      <th>L_drzwi</th>\n",
       "      <th>L_miejsc</th>\n",
       "      <th>Wersja</th>\n",
       "      <th>Generacja</th>\n",
       "      <th>Kraj_prod</th>\n",
       "      <th>Moc</th>\n",
       "      <th>Pojemność</th>\n",
       "      <th>Marka</th>\n",
       "      <th>Model</th>\n",
       "      <th>Rok_prod</th>\n",
       "      <th>Przebieg</th>\n",
       "      <th>Paliwo</th>\n",
       "      <th>Typ</th>\n",
       "      <th>Kolor</th>\n",
       "      <th>Zarej_w_PL</th>\n",
       "      <th>Metalik</th>\n",
       "      <th>Bezwyp</th>\n",
       "      <th>Serwis_ASO</th>\n",
       "      <th>1_właść</th>\n",
       "    </tr>\n",
       "  </thead>\n",
       "  <tbody>\n",
       "    <tr>\n",
       "      <td>0</td>\n",
       "      <td>Manualna</td>\n",
       "      <td>Na przednie koła</td>\n",
       "      <td>5</td>\n",
       "      <td>5</td>\n",
       "      <td>Inny</td>\n",
       "      <td>B8 (2007-2015)</td>\n",
       "      <td>Niemcy</td>\n",
       "      <td>1.6e+02</td>\n",
       "      <td>1.8e+03</td>\n",
       "      <td>Audi</td>\n",
       "      <td>A4</td>\n",
       "      <td>2008</td>\n",
       "      <td>170000</td>\n",
       "      <td>Benzyna</td>\n",
       "      <td>Kombi</td>\n",
       "      <td>Biały</td>\n",
       "      <td>Tak</td>\n",
       "      <td>Nie</td>\n",
       "      <td>Tak</td>\n",
       "      <td>Tak</td>\n",
       "      <td>Nie</td>\n",
       "    </tr>\n",
       "    <tr>\n",
       "      <td>1</td>\n",
       "      <td>Manualna</td>\n",
       "      <td>Na przednie koła</td>\n",
       "      <td>5</td>\n",
       "      <td>5</td>\n",
       "      <td>1.6 Ambiente</td>\n",
       "      <td>Mk2 (2004-2011)</td>\n",
       "      <td>Niemcy</td>\n",
       "      <td>1e+02</td>\n",
       "      <td>1.6e+03</td>\n",
       "      <td>Ford</td>\n",
       "      <td>Focus</td>\n",
       "      <td>2006</td>\n",
       "      <td>147312</td>\n",
       "      <td>Benzyna</td>\n",
       "      <td>Kompakt</td>\n",
       "      <td>Zielony</td>\n",
       "      <td>Tak</td>\n",
       "      <td>Tak</td>\n",
       "      <td>Nie</td>\n",
       "      <td>Nie</td>\n",
       "      <td>Nie</td>\n",
       "    </tr>\n",
       "    <tr>\n",
       "      <td>2</td>\n",
       "      <td>Manualna</td>\n",
       "      <td>4x4 (dołączany automatycznie)</td>\n",
       "      <td>4</td>\n",
       "      <td>5</td>\n",
       "      <td>Cooper D ALL4</td>\n",
       "      <td>Inny</td>\n",
       "      <td>Niemcy</td>\n",
       "      <td>1.1e+02</td>\n",
       "      <td>1.6e+03</td>\n",
       "      <td>Mini</td>\n",
       "      <td>Countryman</td>\n",
       "      <td>2013</td>\n",
       "      <td>166000</td>\n",
       "      <td>Diesel</td>\n",
       "      <td>Kompakt</td>\n",
       "      <td>Czarny</td>\n",
       "      <td>Nie</td>\n",
       "      <td>Tak</td>\n",
       "      <td>Tak</td>\n",
       "      <td>Tak</td>\n",
       "      <td>Nie</td>\n",
       "    </tr>\n",
       "  </tbody>\n",
       "</table>\n",
       "</div>"
      ],
      "text/plain": [
       "   Skrzynia                          Napęd L_drzwi L_miejsc         Wersja  \\\n",
       "0  Manualna               Na przednie koła       5        5           Inny   \n",
       "1  Manualna               Na przednie koła       5        5   1.6 Ambiente   \n",
       "2  Manualna  4x4 (dołączany automatycznie)       4        5  Cooper D ALL4   \n",
       "\n",
       "         Generacja Kraj_prod      Moc Pojemność Marka       Model Rok_prod  \\\n",
       "0   B8 (2007-2015)    Niemcy  1.6e+02   1.8e+03  Audi          A4     2008   \n",
       "1  Mk2 (2004-2011)    Niemcy    1e+02   1.6e+03  Ford       Focus     2006   \n",
       "2             Inny    Niemcy  1.1e+02   1.6e+03  Mini  Countryman     2013   \n",
       "\n",
       "  Przebieg   Paliwo      Typ    Kolor Zarej_w_PL Metalik Bezwyp Serwis_ASO  \\\n",
       "0   170000  Benzyna    Kombi    Biały        Tak     Nie    Tak        Tak   \n",
       "1   147312  Benzyna  Kompakt  Zielony        Tak     Tak    Nie        Nie   \n",
       "2   166000   Diesel  Kompakt   Czarny        Nie     Tak    Tak        Tak   \n",
       "\n",
       "  1_właść  \n",
       "0     Nie  \n",
       "1     Nie  \n",
       "2     Nie  "
      ]
     },
     "execution_count": 29,
     "metadata": {},
     "output_type": "execute_result"
    }
   ],
   "source": [
    "from sklearn.pipeline import Pipeline\n",
    "from sklearn.impute import SimpleImputer\n",
    "from sklearn.compose import ColumnTransformer\n",
    "\n",
    "# columns to replace NaNs with 'most_frequent' value\n",
    "cols_imputer_1 = ['Skrzynia', 'Napęd', 'L_drzwi', 'L_miejsc']\n",
    "# columns to replace NaNs with 'constant' value\n",
    "cols_imputer_2 = ['Wersja', 'Generacja', 'Kraj_prod']\n",
    "# columns to replace NaNs with 'median' value\n",
    "cols_imputer_3 = ['Moc', 'Pojemność']   \n",
    "\n",
    "# Pipelines for filling missing data:\n",
    "miss_pipeline_1 = Pipeline([('imputer', SimpleImputer(strategy=\"most_frequent\"))])\n",
    "miss_pipeline_2 = Pipeline([('imputer', SimpleImputer(strategy=\"constant\", fill_value=\"Inny\"))])\n",
    "miss_pipeline_3 = Pipeline([('imputer', SimpleImputer(strategy=\"median\"))])\n",
    "\n",
    "# Column transformations (imputing pipelines into specific columns)\n",
    "preproc_miss_data = ColumnTransformer(transformers=[\n",
    "    ('miss_pipeline_1', miss_pipeline_1, cols_imputer_1),\n",
    "    ('miss_pipeline_2', miss_pipeline_2, cols_imputer_2),\n",
    "    ('miss_pipeline_3', miss_pipeline_3, cols_imputer_3)],\n",
    "    remainder='passthrough'\n",
    ")\n",
    "\n",
    "# 'ColumnTransformer' changes order of columns (and rows) - on the beginning are columns (and rows) \n",
    "# with missing data (cols_imputer_1, cols_imputer_2... <- in order like in 'ColumnTransformer') \n",
    "# and then the rest (in order like in DF before transformation). So if we need DF with filled all \n",
    "# NaNs we need take into account new column order.\n",
    "\n",
    "# all columns with missing data\n",
    "columns = cols_imputer_1 + cols_imputer_2 + cols_imputer_3\n",
    "\n",
    "# columns without missing data\n",
    "c = [col for col in X.columns if col not in columns]\n",
    "\n",
    "# new column order\n",
    "columns += c\n",
    "\n",
    "# Applying transformation onto data\n",
    "preproc_miss_data.fit(X)\n",
    "\n",
    "# New DF (X_train after transformation) with fullfilled NaNs \n",
    "# (new order of cols and rows, but data inside OK)\n",
    "X_trans = pd.DataFrame(columns=columns, data=preproc_miss_data.transform(X))\n",
    "    \n",
    "X_trans.head(3)"
   ]
  },
  {
   "cell_type": "markdown",
   "metadata": {},
   "source": [
    "#### - Feature engineering (encoding, scaling):"
   ]
  },
  {
   "cell_type": "code",
   "execution_count": 30,
   "metadata": {},
   "outputs": [],
   "source": [
    "from sklearn.preprocessing import OneHotEncoder\n",
    "from sklearn.preprocessing import LabelEncoder\n",
    "from sklearn.preprocessing import RobustScaler\n",
    "from sklearn.preprocessing import StandardScaler\n",
    "from scipy import stats\n",
    "import category_encoders as ce\n",
    "\n",
    "# categorical columns to encode with One-Hot Encoding\n",
    "cols_encode_OHE = ['Napęd', 'Typ', 'Skrzynia', 'Zarej_w_PL', \n",
    "                   'Metalik', 'Bezwyp', 'Serwis_ASO', '1_właść']\n",
    "\n",
    "# One-Hot Encoding\n",
    "OHE_encoder = OneHotEncoder(sparse=False)\n",
    "X_OHE = pd.DataFrame(OHE_encoder.fit_transform(X_trans[cols_encode_OHE]))\n",
    "X_OHE.index = X_trans.index\n",
    "X_trans = pd.concat([X_trans, X_OHE], axis=1)\n",
    "X_trans.drop(columns=cols_encode_OHE, inplace=True)"
   ]
  },
  {
   "cell_type": "code",
   "execution_count": 31,
   "metadata": {},
   "outputs": [],
   "source": [
    "# categorical columns to encode with Count Encoding\n",
    "cols_encode_CE = ['Marka', 'Model', 'Kolor', 'Generacja', 'Kraj_prod', 'Paliwo']\n",
    "\n",
    "# Count Encoding\n",
    "CE_encoder = ce.CountEncoder()\n",
    "X_CE = CE_encoder.fit_transform(X_trans[cols_encode_CE])\n",
    "X_trans.drop(columns=cols_encode_CE, inplace=True)\n",
    "X_trans = pd.concat([X_trans, X_CE], axis=1)"
   ]
  },
  {
   "cell_type": "code",
   "execution_count": 32,
   "metadata": {},
   "outputs": [
    {
     "name": "stderr",
     "output_type": "stream",
     "text": [
      "C:\\Users\\Maciek\\Anaconda3\\lib\\site-packages\\sklearn\\preprocessing\\label.py:235: DataConversionWarning: A column-vector y was passed when a 1d array was expected. Please change the shape of y to (n_samples, ), for example using ravel().\n",
      "  y = column_or_1d(y, warn=True)\n"
     ]
    }
   ],
   "source": [
    "# categorical columns to encode with Label Encoding\n",
    "cols_encode_LE = ['Rok_prod']\n",
    "\n",
    "# Label Encoding\n",
    "LE_encoder = LabelEncoder()\n",
    "X_LE = LE_encoder.fit_transform(X_trans[cols_encode_LE])\n",
    "X_LE = pd.DataFrame(columns=cols_encode_LE, data=X_LE)\n",
    "X_trans.drop(columns=cols_encode_LE, inplace=True)\n",
    "X_trans = pd.concat([X_trans, X_LE], axis=1)"
   ]
  },
  {
   "cell_type": "code",
   "execution_count": 33,
   "metadata": {},
   "outputs": [],
   "source": [
    "# categorical columns to encode with Hash Encoding\n",
    "cols_encode_HE = ['Wersja']\n",
    "\n",
    "# Hash Encoding\n",
    "HE_encoder = ce.HashingEncoder(n_components=10, cols=cols_encode_HE)\n",
    "X_HE = HE_encoder.fit_transform(X_trans)\n",
    "X_trans.drop(columns=cols_encode_HE, inplace=True)\n",
    "X_trans = X_trans"
   ]
  },
  {
   "cell_type": "code",
   "execution_count": 34,
   "metadata": {},
   "outputs": [],
   "source": [
    "# categorical columns to change datatype to numerical (encode back to numerical values)\n",
    "cols_convert_to_num = ['L_drzwi', 'L_miejsc']\n",
    "\n",
    "# Changing cat. data types on numerical\n",
    "X_trans[cols_convert_to_num] = X_trans[cols_convert_to_num].astype('int32')"
   ]
  },
  {
   "cell_type": "code",
   "execution_count": 35,
   "metadata": {},
   "outputs": [],
   "source": [
    "# numerical columns to scale with RobustScaler\n",
    "cols_scale_RS = ['Przebieg']\n",
    "\n",
    "# Robust Scalling\n",
    "RS_scaler = RobustScaler()\n",
    "X_RS = pd.DataFrame(RS_scaler.fit_transform(X_trans[cols_scale_RS]))\n",
    "X_trans.drop(columns=cols_scale_RS, inplace=True)\n",
    "X_trans = pd.concat([X_trans, X_RS], axis=1)"
   ]
  },
  {
   "cell_type": "code",
   "execution_count": 36,
   "metadata": {},
   "outputs": [],
   "source": [
    "# numerical columns to scale with Normalization and Standarization\n",
    "cols_scale_N_S = ['Pojemność', 'Moc']\n",
    "\n",
    "# Normalization and Standarization\n",
    "X_trans[cols_scale_N_S] = X_trans[cols_scale_N_S].astype('int32')\n",
    "X_N_S = np.log(X_trans[cols_scale_N_S])\n",
    "S_scaler = StandardScaler()\n",
    "X_N_S = S_scaler.fit_transform(X_N_S)\n",
    "X_N_S = pd.DataFrame(columns=cols_scale_N_S, data=X_N_S)\n",
    "X_trans.drop(columns=cols_scale_N_S, inplace=True)\n",
    "X_trans = pd.concat([X_trans, X_N_S], axis=1)"
   ]
  },
  {
   "cell_type": "code",
   "execution_count": 37,
   "metadata": {},
   "outputs": [
    {
     "data": {
      "text/html": [
       "<div>\n",
       "<style scoped>\n",
       "    .dataframe tbody tr th:only-of-type {\n",
       "        vertical-align: middle;\n",
       "    }\n",
       "\n",
       "    .dataframe tbody tr th {\n",
       "        vertical-align: top;\n",
       "    }\n",
       "\n",
       "    .dataframe thead th {\n",
       "        text-align: right;\n",
       "    }\n",
       "</style>\n",
       "<table border=\"1\" class=\"dataframe\">\n",
       "  <thead>\n",
       "    <tr style=\"text-align: right;\">\n",
       "      <th></th>\n",
       "      <th>L_drzwi</th>\n",
       "      <th>L_miejsc</th>\n",
       "      <th>0</th>\n",
       "      <th>1</th>\n",
       "      <th>2</th>\n",
       "      <th>3</th>\n",
       "      <th>4</th>\n",
       "      <th>5</th>\n",
       "      <th>6</th>\n",
       "      <th>7</th>\n",
       "      <th>8</th>\n",
       "      <th>9</th>\n",
       "      <th>10</th>\n",
       "      <th>11</th>\n",
       "      <th>12</th>\n",
       "      <th>13</th>\n",
       "      <th>14</th>\n",
       "      <th>15</th>\n",
       "      <th>16</th>\n",
       "      <th>17</th>\n",
       "      <th>18</th>\n",
       "      <th>19</th>\n",
       "      <th>20</th>\n",
       "      <th>21</th>\n",
       "      <th>22</th>\n",
       "      <th>23</th>\n",
       "      <th>24</th>\n",
       "      <th>25</th>\n",
       "      <th>Marka</th>\n",
       "      <th>Model</th>\n",
       "      <th>Kolor</th>\n",
       "      <th>Generacja</th>\n",
       "      <th>Kraj_prod</th>\n",
       "      <th>Paliwo</th>\n",
       "      <th>Rok_prod</th>\n",
       "      <th>0</th>\n",
       "      <th>Pojemność</th>\n",
       "      <th>Moc</th>\n",
       "    </tr>\n",
       "  </thead>\n",
       "  <tbody>\n",
       "    <tr>\n",
       "      <td>0</td>\n",
       "      <td>5</td>\n",
       "      <td>5</td>\n",
       "      <td>0.0</td>\n",
       "      <td>0.0</td>\n",
       "      <td>0.0</td>\n",
       "      <td>1.0</td>\n",
       "      <td>0.0</td>\n",
       "      <td>0.0</td>\n",
       "      <td>0.0</td>\n",
       "      <td>0.0</td>\n",
       "      <td>0.0</td>\n",
       "      <td>1.0</td>\n",
       "      <td>0.0</td>\n",
       "      <td>0.0</td>\n",
       "      <td>0.0</td>\n",
       "      <td>0.0</td>\n",
       "      <td>0.0</td>\n",
       "      <td>1.0</td>\n",
       "      <td>0.0</td>\n",
       "      <td>1.0</td>\n",
       "      <td>1.0</td>\n",
       "      <td>0.0</td>\n",
       "      <td>0.0</td>\n",
       "      <td>1.0</td>\n",
       "      <td>0.0</td>\n",
       "      <td>1.0</td>\n",
       "      <td>1.0</td>\n",
       "      <td>0.0</td>\n",
       "      <td>364</td>\n",
       "      <td>109</td>\n",
       "      <td>469</td>\n",
       "      <td>80</td>\n",
       "      <td>981</td>\n",
       "      <td>1586</td>\n",
       "      <td>3</td>\n",
       "      <td>0.01</td>\n",
       "      <td>-0.02</td>\n",
       "      <td>0.43</td>\n",
       "    </tr>\n",
       "    <tr>\n",
       "      <td>1</td>\n",
       "      <td>5</td>\n",
       "      <td>5</td>\n",
       "      <td>0.0</td>\n",
       "      <td>0.0</td>\n",
       "      <td>0.0</td>\n",
       "      <td>1.0</td>\n",
       "      <td>0.0</td>\n",
       "      <td>0.0</td>\n",
       "      <td>0.0</td>\n",
       "      <td>0.0</td>\n",
       "      <td>0.0</td>\n",
       "      <td>0.0</td>\n",
       "      <td>1.0</td>\n",
       "      <td>0.0</td>\n",
       "      <td>0.0</td>\n",
       "      <td>0.0</td>\n",
       "      <td>0.0</td>\n",
       "      <td>1.0</td>\n",
       "      <td>0.0</td>\n",
       "      <td>1.0</td>\n",
       "      <td>0.0</td>\n",
       "      <td>1.0</td>\n",
       "      <td>1.0</td>\n",
       "      <td>0.0</td>\n",
       "      <td>1.0</td>\n",
       "      <td>0.0</td>\n",
       "      <td>1.0</td>\n",
       "      <td>0.0</td>\n",
       "      <td>303</td>\n",
       "      <td>68</td>\n",
       "      <td>23</td>\n",
       "      <td>28</td>\n",
       "      <td>981</td>\n",
       "      <td>1586</td>\n",
       "      <td>1</td>\n",
       "      <td>-0.24</td>\n",
       "      <td>-0.47</td>\n",
       "      <td>-0.86</td>\n",
       "    </tr>\n",
       "    <tr>\n",
       "      <td>2</td>\n",
       "      <td>4</td>\n",
       "      <td>5</td>\n",
       "      <td>1.0</td>\n",
       "      <td>0.0</td>\n",
       "      <td>0.0</td>\n",
       "      <td>0.0</td>\n",
       "      <td>0.0</td>\n",
       "      <td>0.0</td>\n",
       "      <td>0.0</td>\n",
       "      <td>0.0</td>\n",
       "      <td>0.0</td>\n",
       "      <td>0.0</td>\n",
       "      <td>1.0</td>\n",
       "      <td>0.0</td>\n",
       "      <td>0.0</td>\n",
       "      <td>0.0</td>\n",
       "      <td>0.0</td>\n",
       "      <td>1.0</td>\n",
       "      <td>1.0</td>\n",
       "      <td>0.0</td>\n",
       "      <td>0.0</td>\n",
       "      <td>1.0</td>\n",
       "      <td>0.0</td>\n",
       "      <td>1.0</td>\n",
       "      <td>0.0</td>\n",
       "      <td>1.0</td>\n",
       "      <td>1.0</td>\n",
       "      <td>0.0</td>\n",
       "      <td>24</td>\n",
       "      <td>10</td>\n",
       "      <td>1089</td>\n",
       "      <td>817</td>\n",
       "      <td>981</td>\n",
       "      <td>1962</td>\n",
       "      <td>8</td>\n",
       "      <td>-0.03</td>\n",
       "      <td>-0.46</td>\n",
       "      <td>-0.55</td>\n",
       "    </tr>\n",
       "    <tr>\n",
       "      <td>3</td>\n",
       "      <td>5</td>\n",
       "      <td>7</td>\n",
       "      <td>1.0</td>\n",
       "      <td>0.0</td>\n",
       "      <td>0.0</td>\n",
       "      <td>0.0</td>\n",
       "      <td>0.0</td>\n",
       "      <td>0.0</td>\n",
       "      <td>0.0</td>\n",
       "      <td>0.0</td>\n",
       "      <td>0.0</td>\n",
       "      <td>0.0</td>\n",
       "      <td>0.0</td>\n",
       "      <td>0.0</td>\n",
       "      <td>1.0</td>\n",
       "      <td>0.0</td>\n",
       "      <td>1.0</td>\n",
       "      <td>0.0</td>\n",
       "      <td>0.0</td>\n",
       "      <td>1.0</td>\n",
       "      <td>0.0</td>\n",
       "      <td>1.0</td>\n",
       "      <td>1.0</td>\n",
       "      <td>0.0</td>\n",
       "      <td>1.0</td>\n",
       "      <td>0.0</td>\n",
       "      <td>1.0</td>\n",
       "      <td>0.0</td>\n",
       "      <td>14</td>\n",
       "      <td>3</td>\n",
       "      <td>562</td>\n",
       "      <td>7</td>\n",
       "      <td>872</td>\n",
       "      <td>1962</td>\n",
       "      <td>4</td>\n",
       "      <td>0.25</td>\n",
       "      <td>1.86</td>\n",
       "      <td>1.60</td>\n",
       "    </tr>\n",
       "    <tr>\n",
       "      <td>4</td>\n",
       "      <td>5</td>\n",
       "      <td>5</td>\n",
       "      <td>0.0</td>\n",
       "      <td>0.0</td>\n",
       "      <td>0.0</td>\n",
       "      <td>1.0</td>\n",
       "      <td>0.0</td>\n",
       "      <td>0.0</td>\n",
       "      <td>0.0</td>\n",
       "      <td>0.0</td>\n",
       "      <td>0.0</td>\n",
       "      <td>0.0</td>\n",
       "      <td>0.0</td>\n",
       "      <td>0.0</td>\n",
       "      <td>0.0</td>\n",
       "      <td>1.0</td>\n",
       "      <td>1.0</td>\n",
       "      <td>0.0</td>\n",
       "      <td>0.0</td>\n",
       "      <td>1.0</td>\n",
       "      <td>0.0</td>\n",
       "      <td>1.0</td>\n",
       "      <td>1.0</td>\n",
       "      <td>0.0</td>\n",
       "      <td>1.0</td>\n",
       "      <td>0.0</td>\n",
       "      <td>1.0</td>\n",
       "      <td>0.0</td>\n",
       "      <td>364</td>\n",
       "      <td>89</td>\n",
       "      <td>1089</td>\n",
       "      <td>48</td>\n",
       "      <td>872</td>\n",
       "      <td>1586</td>\n",
       "      <td>0</td>\n",
       "      <td>0.74</td>\n",
       "      <td>1.03</td>\n",
       "      <td>0.71</td>\n",
       "    </tr>\n",
       "  </tbody>\n",
       "</table>\n",
       "</div>"
      ],
      "text/plain": [
       "   L_drzwi  L_miejsc    0    1    2    3    4    5    6    7    8    9   10  \\\n",
       "0        5         5  0.0  0.0  0.0  1.0  0.0  0.0  0.0  0.0  0.0  1.0  0.0   \n",
       "1        5         5  0.0  0.0  0.0  1.0  0.0  0.0  0.0  0.0  0.0  0.0  1.0   \n",
       "2        4         5  1.0  0.0  0.0  0.0  0.0  0.0  0.0  0.0  0.0  0.0  1.0   \n",
       "3        5         7  1.0  0.0  0.0  0.0  0.0  0.0  0.0  0.0  0.0  0.0  0.0   \n",
       "4        5         5  0.0  0.0  0.0  1.0  0.0  0.0  0.0  0.0  0.0  0.0  0.0   \n",
       "\n",
       "    11   12   13   14   15   16   17   18   19   20   21   22   23   24   25  \\\n",
       "0  0.0  0.0  0.0  0.0  1.0  0.0  1.0  1.0  0.0  0.0  1.0  0.0  1.0  1.0  0.0   \n",
       "1  0.0  0.0  0.0  0.0  1.0  0.0  1.0  0.0  1.0  1.0  0.0  1.0  0.0  1.0  0.0   \n",
       "2  0.0  0.0  0.0  0.0  1.0  1.0  0.0  0.0  1.0  0.0  1.0  0.0  1.0  1.0  0.0   \n",
       "3  0.0  1.0  0.0  1.0  0.0  0.0  1.0  0.0  1.0  1.0  0.0  1.0  0.0  1.0  0.0   \n",
       "4  0.0  0.0  1.0  1.0  0.0  0.0  1.0  0.0  1.0  1.0  0.0  1.0  0.0  1.0  0.0   \n",
       "\n",
       "   Marka  Model  Kolor  Generacja  Kraj_prod  Paliwo  Rok_prod     0  \\\n",
       "0    364    109    469         80        981    1586         3  0.01   \n",
       "1    303     68     23         28        981    1586         1 -0.24   \n",
       "2     24     10   1089        817        981    1962         8 -0.03   \n",
       "3     14      3    562          7        872    1962         4  0.25   \n",
       "4    364     89   1089         48        872    1586         0  0.74   \n",
       "\n",
       "   Pojemność   Moc  \n",
       "0      -0.02  0.43  \n",
       "1      -0.47 -0.86  \n",
       "2      -0.46 -0.55  \n",
       "3       1.86  1.60  \n",
       "4       1.03  0.71  "
      ]
     },
     "execution_count": 37,
     "metadata": {},
     "output_type": "execute_result"
    }
   ],
   "source": [
    "# Preprocessed (transformed) training data\n",
    "X_trans.head()"
   ]
  },
  {
   "cell_type": "markdown",
   "metadata": {},
   "source": [
    "## 4. Model selection"
   ]
  },
  {
   "cell_type": "code",
   "execution_count": 38,
   "metadata": {},
   "outputs": [
    {
     "name": "stderr",
     "output_type": "stream",
     "text": [
      "C:\\Users\\Maciek\\Anaconda3\\lib\\site-packages\\sklearn\\ensemble\\forest.py:245: FutureWarning: The default value of n_estimators will change from 10 in version 0.20 to 100 in 0.22.\n",
      "  \"10 in version 0.20 to 100 in 0.22.\", FutureWarning)\n",
      "C:\\Users\\Maciek\\Anaconda3\\lib\\site-packages\\sklearn\\ensemble\\forest.py:245: FutureWarning: The default value of n_estimators will change from 10 in version 0.20 to 100 in 0.22.\n",
      "  \"10 in version 0.20 to 100 in 0.22.\", FutureWarning)\n",
      "C:\\Users\\Maciek\\Anaconda3\\lib\\site-packages\\sklearn\\ensemble\\forest.py:245: FutureWarning: The default value of n_estimators will change from 10 in version 0.20 to 100 in 0.22.\n",
      "  \"10 in version 0.20 to 100 in 0.22.\", FutureWarning)\n",
      "C:\\Users\\Maciek\\Anaconda3\\lib\\site-packages\\sklearn\\ensemble\\forest.py:245: FutureWarning: The default value of n_estimators will change from 10 in version 0.20 to 100 in 0.22.\n",
      "  \"10 in version 0.20 to 100 in 0.22.\", FutureWarning)\n",
      "C:\\Users\\Maciek\\Anaconda3\\lib\\site-packages\\sklearn\\ensemble\\forest.py:245: FutureWarning: The default value of n_estimators will change from 10 in version 0.20 to 100 in 0.22.\n",
      "  \"10 in version 0.20 to 100 in 0.22.\", FutureWarning)\n"
     ]
    },
    {
     "name": "stdout",
     "output_type": "stream",
     "text": [
      "RMSE\n",
      "\n",
      "Model_1: \n",
      "- Results:  [8544.21243343 9096.61729654 9160.21087794 9056.50353039 9272.66525093] \n",
      "- Avg:  9026.041877845852 \n",
      "- Std:  251.75099771210236\n",
      "\n",
      "Model_2: \n",
      "- Results:  [11595.4071936  11699.86165591 11457.52996539 10781.94657291\n",
      " 10664.20967197] \n",
      "- Avg:  11239.791011954721 \n",
      "- Std:  430.45406891191266\n",
      "\n",
      "Model_3: \n",
      "- Results:  [8282.73075843 8405.31452593 8071.60152516 7989.61074723 8607.21515155] \n",
      "- Avg:  8271.294541659994 \n",
      "- Std:  223.67738386964487\n"
     ]
    }
   ],
   "source": [
    "from sklearn.model_selection import cross_val_score\n",
    "\n",
    "from sklearn.linear_model import LinearRegression\n",
    "from sklearn.tree import DecisionTreeRegressor\n",
    "from sklearn.ensemble import RandomForestRegressor\n",
    "\n",
    "# Models with default settings\n",
    "model_1 = LinearRegression()\n",
    "model_2 = DecisionTreeRegressor(random_state=1)\n",
    "model_3 = RandomForestRegressor(random_state=1)\n",
    "\n",
    "scores_mse_m1 = np.sqrt(-1 * cross_val_score(model_1, X_trans, y, scoring=\"neg_mean_squared_error\", cv=5))\n",
    "scores_mse_m2 = np.sqrt(-1 * cross_val_score(model_2, X_trans, y, scoring=\"neg_mean_squared_error\", cv=5))\n",
    "scores_mse_m3 = np.sqrt(-1 * cross_val_score(model_3, X_trans, y, scoring=\"neg_mean_squared_error\", cv=5))\n",
    "\n",
    "print(\"RMSE\")\n",
    "print(\"\\nModel_1:\", \"\\n- Results: \", scores_mse_m1, \"\\n- Avg: \", scores_mse_m1.mean(), \"\\n- Std: \", scores_mse_m1.std())\n",
    "print(\"\\nModel_2:\", \"\\n- Results: \", scores_mse_m2, \"\\n- Avg: \", scores_mse_m2.mean(), \"\\n- Std: \", scores_mse_m2.std())\n",
    "print(\"\\nModel_3:\", \"\\n- Results: \", scores_mse_m3, \"\\n- Avg: \", scores_mse_m3.mean(), \"\\n- Std: \", scores_mse_m3.std())"
   ]
  },
  {
   "cell_type": "markdown",
   "metadata": {},
   "source": [
    "#### Comment: \n",
    "\n",
    "The best model with default parameters: **RandomForestRegressor (Model_3)**"
   ]
  },
  {
   "cell_type": "markdown",
   "metadata": {},
   "source": [
    "## 5. Parameters tuning\n"
   ]
  },
  {
   "cell_type": "code",
   "execution_count": 39,
   "metadata": {},
   "outputs": [
    {
     "name": "stdout",
     "output_type": "stream",
     "text": [
      "{'criterion': 'mse', 'max_depth': 10, 'n_estimators': 200, 'n_jobs': -1} \n",
      "\n",
      "RandomForestRegressor(bootstrap=True, criterion='mse', max_depth=10,\n",
      "                      max_features='auto', max_leaf_nodes=None,\n",
      "                      min_impurity_decrease=0.0, min_impurity_split=None,\n",
      "                      min_samples_leaf=1, min_samples_split=2,\n",
      "                      min_weight_fraction_leaf=0.0, n_estimators=200, n_jobs=-1,\n",
      "                      oob_score=False, random_state=1, verbose=0,\n",
      "                      warm_start=False)\n",
      "\n",
      "Tuned model RMSE: 7895.852410284964\n"
     ]
    }
   ],
   "source": [
    "from sklearn.model_selection import GridSearchCV\n",
    "\n",
    "# possible parameters\n",
    "params = {\"n_estimators\": [100, 200],\n",
    "          \"criterion\": [\"mse\"],\n",
    "          \"max_depth\": [5, 10],\n",
    "          \"n_jobs\": [-1]}\n",
    "\n",
    "\n",
    "gridsearch = GridSearchCV(model_3, param_grid=params, scoring=\"neg_mean_squared_error\", cv=5, return_train_score=True)\n",
    "gridsearch.fit(X_trans, y)\n",
    "\n",
    "# Parameters of the best model:\n",
    "print(gridsearch.best_params_, '\\n')\n",
    "\n",
    "print(gridsearch.best_estimator_)\n",
    "\n",
    "# Quality of tuned model:\n",
    "results = gridsearch.cv_results_\n",
    "print(\"\\nTuned model RMSE:\", np.sqrt(-(max(results[\"mean_test_score\"]))))"
   ]
  },
  {
   "cell_type": "markdown",
   "metadata": {},
   "source": [
    "#### Comment:\n",
    "\n",
    "Tuning of hyperparameters let us decrease RMSE from 8271.29 to 7895.85, but we can try to improve it more by increasing *max_depth* parameter."
   ]
  },
  {
   "cell_type": "code",
   "execution_count": 40,
   "metadata": {},
   "outputs": [
    {
     "name": "stdout",
     "output_type": "stream",
     "text": [
      "{'criterion': 'mse', 'max_depth': 20, 'min_samples_split': 2, 'n_estimators': 100, 'n_jobs': -1}\n",
      "Tuned model RMSE: 7802.575429862934\n"
     ]
    }
   ],
   "source": [
    "# possible values of max_depth:\n",
    "params_2 = {\"n_estimators\": [100],\n",
    "          \"criterion\": [\"mse\"],\n",
    "          \"max_depth\": [10, 20, 50, 70, 100],\n",
    "          \"min_samples_split\": [2],\n",
    "          \"n_jobs\": [-1]}\n",
    "\n",
    "gridsearch_2 = GridSearchCV(model_3, param_grid=params_2, scoring=\"neg_mean_squared_error\", cv=5)\n",
    "gridsearch_2.fit(X_trans, y)\n",
    "\n",
    "# Parameters of the best model:\n",
    "print(gridsearch_2.best_params_)\n",
    "\n",
    "# Quality of tuned model:\n",
    "results_2 = gridsearch_2.cv_results_\n",
    "print(\"Tuned model RMSE:\", np.sqrt(-(max(results_2[\"mean_test_score\"]))))"
   ]
  },
  {
   "cell_type": "markdown",
   "metadata": {},
   "source": [
    "#### Comment:\n",
    "\n",
    "Finally our the best model achieved **RMSE = 7802.58** for *max_depth* = 20."
   ]
  },
  {
   "cell_type": "markdown",
   "metadata": {},
   "source": [
    "## 6. Predictions on test dataset"
   ]
  },
  {
   "cell_type": "markdown",
   "metadata": {},
   "source": [
    "#### - Extracting target from the test set:"
   ]
  },
  {
   "cell_type": "code",
   "execution_count": 41,
   "metadata": {},
   "outputs": [],
   "source": [
    "final_model = gridsearch_2.best_estimator_\n",
    "\n",
    "X_test = test_set.drop('Cena', axis=1)\n",
    "y_test = test_set['Cena']"
   ]
  },
  {
   "cell_type": "markdown",
   "metadata": {},
   "source": [
    "#### - Missing values:"
   ]
  },
  {
   "cell_type": "code",
   "execution_count": 42,
   "metadata": {},
   "outputs": [
    {
     "data": {
      "text/html": [
       "<div>\n",
       "<style scoped>\n",
       "    .dataframe tbody tr th:only-of-type {\n",
       "        vertical-align: middle;\n",
       "    }\n",
       "\n",
       "    .dataframe tbody tr th {\n",
       "        vertical-align: top;\n",
       "    }\n",
       "\n",
       "    .dataframe thead th {\n",
       "        text-align: right;\n",
       "    }\n",
       "</style>\n",
       "<table border=\"1\" class=\"dataframe\">\n",
       "  <thead>\n",
       "    <tr style=\"text-align: right;\">\n",
       "      <th></th>\n",
       "      <th>Skrzynia</th>\n",
       "      <th>Napęd</th>\n",
       "      <th>L_drzwi</th>\n",
       "      <th>L_miejsc</th>\n",
       "      <th>Wersja</th>\n",
       "      <th>Generacja</th>\n",
       "      <th>Kraj_prod</th>\n",
       "      <th>Moc</th>\n",
       "      <th>Pojemność</th>\n",
       "      <th>Marka</th>\n",
       "      <th>Model</th>\n",
       "      <th>Rok_prod</th>\n",
       "      <th>Przebieg</th>\n",
       "      <th>Paliwo</th>\n",
       "      <th>Typ</th>\n",
       "      <th>Kolor</th>\n",
       "      <th>Zarej_w_PL</th>\n",
       "      <th>Metalik</th>\n",
       "      <th>Bezwyp</th>\n",
       "      <th>Serwis_ASO</th>\n",
       "      <th>1_właść</th>\n",
       "    </tr>\n",
       "  </thead>\n",
       "  <tbody>\n",
       "    <tr>\n",
       "      <td>0</td>\n",
       "      <td>Automatyczna</td>\n",
       "      <td>Na przednie koła</td>\n",
       "      <td>5</td>\n",
       "      <td>5</td>\n",
       "      <td>2.0 16V VTR Pack</td>\n",
       "      <td>I (2004-2010)</td>\n",
       "      <td>Niemcy</td>\n",
       "      <td>1.4e+02</td>\n",
       "      <td>2e+03</td>\n",
       "      <td>Citroën</td>\n",
       "      <td>C4</td>\n",
       "      <td>2006</td>\n",
       "      <td>158648</td>\n",
       "      <td>Benzyna</td>\n",
       "      <td>Kompakt</td>\n",
       "      <td>Czarny</td>\n",
       "      <td>Nie</td>\n",
       "      <td>Tak</td>\n",
       "      <td>Nie</td>\n",
       "      <td>Tak</td>\n",
       "      <td>Nie</td>\n",
       "    </tr>\n",
       "    <tr>\n",
       "      <td>1</td>\n",
       "      <td>Automatyczna</td>\n",
       "      <td>Na przednie koła</td>\n",
       "      <td>4</td>\n",
       "      <td>5</td>\n",
       "      <td>Inny</td>\n",
       "      <td>A (2008-2017)</td>\n",
       "      <td>Polska</td>\n",
       "      <td>1.7e+02</td>\n",
       "      <td>1.6e+03</td>\n",
       "      <td>Opel</td>\n",
       "      <td>Insignia</td>\n",
       "      <td>2014</td>\n",
       "      <td>89908</td>\n",
       "      <td>Benzyna</td>\n",
       "      <td>Sedan</td>\n",
       "      <td>Srebrny</td>\n",
       "      <td>Tak</td>\n",
       "      <td>Tak</td>\n",
       "      <td>Nie</td>\n",
       "      <td>Tak</td>\n",
       "      <td>Nie</td>\n",
       "    </tr>\n",
       "    <tr>\n",
       "      <td>2</td>\n",
       "      <td>Automatyczna</td>\n",
       "      <td>4x4 (dołączany automatycznie)</td>\n",
       "      <td>5</td>\n",
       "      <td>5</td>\n",
       "      <td>E83 (2003-2010)</td>\n",
       "      <td>E83 (2003-2010)</td>\n",
       "      <td>Inny</td>\n",
       "      <td>2.2e+02</td>\n",
       "      <td>3e+03</td>\n",
       "      <td>BMW</td>\n",
       "      <td>X3</td>\n",
       "      <td>2007</td>\n",
       "      <td>212734</td>\n",
       "      <td>Diesel</td>\n",
       "      <td>SUV</td>\n",
       "      <td>Biały</td>\n",
       "      <td>Nie</td>\n",
       "      <td>Tak</td>\n",
       "      <td>Nie</td>\n",
       "      <td>Nie</td>\n",
       "      <td>Nie</td>\n",
       "    </tr>\n",
       "  </tbody>\n",
       "</table>\n",
       "</div>"
      ],
      "text/plain": [
       "       Skrzynia                          Napęd L_drzwi L_miejsc  \\\n",
       "0  Automatyczna               Na przednie koła       5        5   \n",
       "1  Automatyczna               Na przednie koła       4        5   \n",
       "2  Automatyczna  4x4 (dołączany automatycznie)       5        5   \n",
       "\n",
       "             Wersja        Generacja Kraj_prod      Moc Pojemność    Marka  \\\n",
       "0  2.0 16V VTR Pack    I (2004-2010)    Niemcy  1.4e+02     2e+03  Citroën   \n",
       "1              Inny    A (2008-2017)    Polska  1.7e+02   1.6e+03     Opel   \n",
       "2   E83 (2003-2010)  E83 (2003-2010)      Inny  2.2e+02     3e+03      BMW   \n",
       "\n",
       "      Model Rok_prod Przebieg   Paliwo      Typ    Kolor Zarej_w_PL Metalik  \\\n",
       "0        C4     2006   158648  Benzyna  Kompakt   Czarny        Nie     Tak   \n",
       "1  Insignia     2014    89908  Benzyna    Sedan  Srebrny        Tak     Tak   \n",
       "2        X3     2007   212734   Diesel      SUV    Biały        Nie     Tak   \n",
       "\n",
       "  Bezwyp Serwis_ASO 1_właść  \n",
       "0    Nie        Tak     Nie  \n",
       "1    Nie        Tak     Nie  \n",
       "2    Nie        Nie     Nie  "
      ]
     },
     "execution_count": 42,
     "metadata": {},
     "output_type": "execute_result"
    }
   ],
   "source": [
    "# # Applying transformation onto test data\n",
    "preproc_miss_data.fit(X_test)\n",
    "\n",
    "# New DF (X_train after transformation) with fullfilled NaNs \n",
    "# (new order of cols and rows, but data inside OK)\n",
    "X_test_trans = pd.DataFrame(columns=columns, data=preproc_miss_data.transform(X_test))\n",
    "    \n",
    "X_test_trans.head(3)"
   ]
  },
  {
   "cell_type": "markdown",
   "metadata": {},
   "source": [
    "#### - Feature engineering (encoding, scaling):"
   ]
  },
  {
   "cell_type": "code",
   "execution_count": 43,
   "metadata": {},
   "outputs": [],
   "source": [
    "# One-Hot Encoding\n",
    "X_test_OHE = pd.DataFrame(OHE_encoder.fit_transform(X_test_trans[cols_encode_OHE]))\n",
    "X_test_OHE.index = X_test_trans.index\n",
    "X_test_trans = pd.concat([X_test_trans, X_test_OHE], axis=1)\n",
    "X_test_trans.drop(columns=cols_encode_OHE, inplace=True)"
   ]
  },
  {
   "cell_type": "code",
   "execution_count": 44,
   "metadata": {},
   "outputs": [],
   "source": [
    "# Count Encoding\n",
    "X_test_CE = CE_encoder.fit_transform(X_test_trans[cols_encode_CE])\n",
    "X_test_trans.drop(columns=cols_encode_CE, inplace=True)\n",
    "X_test_trans = pd.concat([X_test_trans, X_test_CE], axis=1)"
   ]
  },
  {
   "cell_type": "code",
   "execution_count": 45,
   "metadata": {},
   "outputs": [
    {
     "name": "stderr",
     "output_type": "stream",
     "text": [
      "C:\\Users\\Maciek\\Anaconda3\\lib\\site-packages\\sklearn\\preprocessing\\label.py:235: DataConversionWarning: A column-vector y was passed when a 1d array was expected. Please change the shape of y to (n_samples, ), for example using ravel().\n",
      "  y = column_or_1d(y, warn=True)\n"
     ]
    }
   ],
   "source": [
    "# Label Encoding\n",
    "X_test_LE = LE_encoder.fit_transform(X_test_trans[cols_encode_LE])\n",
    "X_test_LE = pd.DataFrame(columns=cols_encode_LE, data=X_test_LE)\n",
    "X_test_trans.drop(columns=cols_encode_LE, inplace=True)\n",
    "X_test_trans = pd.concat([X_test_trans, X_test_LE], axis=1)"
   ]
  },
  {
   "cell_type": "code",
   "execution_count": 46,
   "metadata": {},
   "outputs": [],
   "source": [
    "# Hash Encoding\n",
    "X_test_HE = HE_encoder.fit_transform(X_test_trans)\n",
    "X_test_trans.drop(columns=cols_encode_HE, inplace=True)\n",
    "X_test_trans = X_test_trans"
   ]
  },
  {
   "cell_type": "code",
   "execution_count": 47,
   "metadata": {},
   "outputs": [],
   "source": [
    "# Changing cat. data types on numerical\n",
    "X_test_trans[cols_convert_to_num] = X_test_trans[cols_convert_to_num].astype('int32')"
   ]
  },
  {
   "cell_type": "code",
   "execution_count": 48,
   "metadata": {},
   "outputs": [],
   "source": [
    "# Robust Scalling\n",
    "X_test_RS = pd.DataFrame(RS_scaler.fit_transform(X_test_trans[cols_scale_RS]))\n",
    "X_test_trans.drop(columns=cols_scale_RS, inplace=True)\n",
    "X_test_trans = pd.concat([X_test_trans, X_test_RS], axis=1)"
   ]
  },
  {
   "cell_type": "code",
   "execution_count": 49,
   "metadata": {},
   "outputs": [],
   "source": [
    "# Normalization and Standarization\n",
    "X_test_trans[cols_scale_N_S] = X_test_trans[cols_scale_N_S].astype('int32')\n",
    "X_test_N_S = np.log(X_test_trans[cols_scale_N_S])\n",
    "X_test_N_S = S_scaler.fit_transform(X_test_N_S)\n",
    "X_test_N_S = pd.DataFrame(columns=cols_scale_N_S, data=X_test_N_S)\n",
    "X_test_trans.drop(columns=cols_scale_N_S, inplace=True)\n",
    "X_test_trans = pd.concat([X_test_trans, X_test_N_S], axis=1)"
   ]
  },
  {
   "cell_type": "code",
   "execution_count": 50,
   "metadata": {},
   "outputs": [
    {
     "data": {
      "text/html": [
       "<div>\n",
       "<style scoped>\n",
       "    .dataframe tbody tr th:only-of-type {\n",
       "        vertical-align: middle;\n",
       "    }\n",
       "\n",
       "    .dataframe tbody tr th {\n",
       "        vertical-align: top;\n",
       "    }\n",
       "\n",
       "    .dataframe thead th {\n",
       "        text-align: right;\n",
       "    }\n",
       "</style>\n",
       "<table border=\"1\" class=\"dataframe\">\n",
       "  <thead>\n",
       "    <tr style=\"text-align: right;\">\n",
       "      <th></th>\n",
       "      <th>L_drzwi</th>\n",
       "      <th>L_miejsc</th>\n",
       "      <th>0</th>\n",
       "      <th>1</th>\n",
       "      <th>2</th>\n",
       "      <th>3</th>\n",
       "      <th>4</th>\n",
       "      <th>5</th>\n",
       "      <th>6</th>\n",
       "      <th>7</th>\n",
       "      <th>8</th>\n",
       "      <th>9</th>\n",
       "      <th>10</th>\n",
       "      <th>11</th>\n",
       "      <th>12</th>\n",
       "      <th>13</th>\n",
       "      <th>14</th>\n",
       "      <th>15</th>\n",
       "      <th>16</th>\n",
       "      <th>17</th>\n",
       "      <th>18</th>\n",
       "      <th>19</th>\n",
       "      <th>20</th>\n",
       "      <th>21</th>\n",
       "      <th>22</th>\n",
       "      <th>23</th>\n",
       "      <th>24</th>\n",
       "      <th>25</th>\n",
       "      <th>Marka</th>\n",
       "      <th>Model</th>\n",
       "      <th>Kolor</th>\n",
       "      <th>Generacja</th>\n",
       "      <th>Kraj_prod</th>\n",
       "      <th>Paliwo</th>\n",
       "      <th>Rok_prod</th>\n",
       "      <th>0</th>\n",
       "      <th>Pojemność</th>\n",
       "      <th>Moc</th>\n",
       "    </tr>\n",
       "  </thead>\n",
       "  <tbody>\n",
       "    <tr>\n",
       "      <td>0</td>\n",
       "      <td>5</td>\n",
       "      <td>5</td>\n",
       "      <td>0.0</td>\n",
       "      <td>0.0</td>\n",
       "      <td>0.0</td>\n",
       "      <td>1.0</td>\n",
       "      <td>0.0</td>\n",
       "      <td>0.0</td>\n",
       "      <td>0.0</td>\n",
       "      <td>0.0</td>\n",
       "      <td>0.0</td>\n",
       "      <td>0.0</td>\n",
       "      <td>1.0</td>\n",
       "      <td>0.0</td>\n",
       "      <td>0.0</td>\n",
       "      <td>0.0</td>\n",
       "      <td>1.0</td>\n",
       "      <td>0.0</td>\n",
       "      <td>1.0</td>\n",
       "      <td>0.0</td>\n",
       "      <td>0.0</td>\n",
       "      <td>1.0</td>\n",
       "      <td>1.0</td>\n",
       "      <td>0.0</td>\n",
       "      <td>0.0</td>\n",
       "      <td>1.0</td>\n",
       "      <td>1.0</td>\n",
       "      <td>0.0</td>\n",
       "      <td>32</td>\n",
       "      <td>2</td>\n",
       "      <td>286</td>\n",
       "      <td>3</td>\n",
       "      <td>251</td>\n",
       "      <td>400</td>\n",
       "      <td>1</td>\n",
       "      <td>-0.13</td>\n",
       "      <td>0.35</td>\n",
       "      <td>0.07</td>\n",
       "    </tr>\n",
       "    <tr>\n",
       "      <td>1</td>\n",
       "      <td>4</td>\n",
       "      <td>5</td>\n",
       "      <td>0.0</td>\n",
       "      <td>0.0</td>\n",
       "      <td>0.0</td>\n",
       "      <td>1.0</td>\n",
       "      <td>0.0</td>\n",
       "      <td>0.0</td>\n",
       "      <td>0.0</td>\n",
       "      <td>0.0</td>\n",
       "      <td>0.0</td>\n",
       "      <td>0.0</td>\n",
       "      <td>0.0</td>\n",
       "      <td>0.0</td>\n",
       "      <td>0.0</td>\n",
       "      <td>1.0</td>\n",
       "      <td>1.0</td>\n",
       "      <td>0.0</td>\n",
       "      <td>0.0</td>\n",
       "      <td>1.0</td>\n",
       "      <td>0.0</td>\n",
       "      <td>1.0</td>\n",
       "      <td>1.0</td>\n",
       "      <td>0.0</td>\n",
       "      <td>0.0</td>\n",
       "      <td>1.0</td>\n",
       "      <td>1.0</td>\n",
       "      <td>0.0</td>\n",
       "      <td>77</td>\n",
       "      <td>23</td>\n",
       "      <td>129</td>\n",
       "      <td>21</td>\n",
       "      <td>215</td>\n",
       "      <td>400</td>\n",
       "      <td>9</td>\n",
       "      <td>-0.91</td>\n",
       "      <td>-0.46</td>\n",
       "      <td>0.54</td>\n",
       "    </tr>\n",
       "    <tr>\n",
       "      <td>2</td>\n",
       "      <td>5</td>\n",
       "      <td>5</td>\n",
       "      <td>1.0</td>\n",
       "      <td>0.0</td>\n",
       "      <td>0.0</td>\n",
       "      <td>0.0</td>\n",
       "      <td>0.0</td>\n",
       "      <td>0.0</td>\n",
       "      <td>0.0</td>\n",
       "      <td>0.0</td>\n",
       "      <td>0.0</td>\n",
       "      <td>0.0</td>\n",
       "      <td>0.0</td>\n",
       "      <td>0.0</td>\n",
       "      <td>1.0</td>\n",
       "      <td>0.0</td>\n",
       "      <td>1.0</td>\n",
       "      <td>0.0</td>\n",
       "      <td>1.0</td>\n",
       "      <td>0.0</td>\n",
       "      <td>0.0</td>\n",
       "      <td>1.0</td>\n",
       "      <td>1.0</td>\n",
       "      <td>0.0</td>\n",
       "      <td>1.0</td>\n",
       "      <td>0.0</td>\n",
       "      <td>1.0</td>\n",
       "      <td>0.0</td>\n",
       "      <td>105</td>\n",
       "      <td>10</td>\n",
       "      <td>113</td>\n",
       "      <td>3</td>\n",
       "      <td>362</td>\n",
       "      <td>482</td>\n",
       "      <td>2</td>\n",
       "      <td>0.49</td>\n",
       "      <td>1.83</td>\n",
       "      <td>1.17</td>\n",
       "    </tr>\n",
       "    <tr>\n",
       "      <td>3</td>\n",
       "      <td>5</td>\n",
       "      <td>5</td>\n",
       "      <td>0.0</td>\n",
       "      <td>0.0</td>\n",
       "      <td>0.0</td>\n",
       "      <td>1.0</td>\n",
       "      <td>0.0</td>\n",
       "      <td>0.0</td>\n",
       "      <td>0.0</td>\n",
       "      <td>0.0</td>\n",
       "      <td>0.0</td>\n",
       "      <td>1.0</td>\n",
       "      <td>0.0</td>\n",
       "      <td>0.0</td>\n",
       "      <td>0.0</td>\n",
       "      <td>0.0</td>\n",
       "      <td>0.0</td>\n",
       "      <td>1.0</td>\n",
       "      <td>0.0</td>\n",
       "      <td>1.0</td>\n",
       "      <td>0.0</td>\n",
       "      <td>1.0</td>\n",
       "      <td>0.0</td>\n",
       "      <td>1.0</td>\n",
       "      <td>0.0</td>\n",
       "      <td>1.0</td>\n",
       "      <td>0.0</td>\n",
       "      <td>1.0</td>\n",
       "      <td>79</td>\n",
       "      <td>24</td>\n",
       "      <td>286</td>\n",
       "      <td>18</td>\n",
       "      <td>215</td>\n",
       "      <td>482</td>\n",
       "      <td>10</td>\n",
       "      <td>-0.22</td>\n",
       "      <td>-0.55</td>\n",
       "      <td>-0.88</td>\n",
       "    </tr>\n",
       "    <tr>\n",
       "      <td>4</td>\n",
       "      <td>5</td>\n",
       "      <td>5</td>\n",
       "      <td>0.0</td>\n",
       "      <td>0.0</td>\n",
       "      <td>0.0</td>\n",
       "      <td>1.0</td>\n",
       "      <td>0.0</td>\n",
       "      <td>0.0</td>\n",
       "      <td>0.0</td>\n",
       "      <td>0.0</td>\n",
       "      <td>0.0</td>\n",
       "      <td>1.0</td>\n",
       "      <td>0.0</td>\n",
       "      <td>0.0</td>\n",
       "      <td>0.0</td>\n",
       "      <td>0.0</td>\n",
       "      <td>0.0</td>\n",
       "      <td>1.0</td>\n",
       "      <td>0.0</td>\n",
       "      <td>1.0</td>\n",
       "      <td>1.0</td>\n",
       "      <td>0.0</td>\n",
       "      <td>0.0</td>\n",
       "      <td>1.0</td>\n",
       "      <td>1.0</td>\n",
       "      <td>0.0</td>\n",
       "      <td>1.0</td>\n",
       "      <td>0.0</td>\n",
       "      <td>77</td>\n",
       "      <td>23</td>\n",
       "      <td>113</td>\n",
       "      <td>21</td>\n",
       "      <td>362</td>\n",
       "      <td>482</td>\n",
       "      <td>9</td>\n",
       "      <td>0.27</td>\n",
       "      <td>0.28</td>\n",
       "      <td>0.07</td>\n",
       "    </tr>\n",
       "  </tbody>\n",
       "</table>\n",
       "</div>"
      ],
      "text/plain": [
       "   L_drzwi  L_miejsc    0    1    2    3    4    5    6    7    8    9   10  \\\n",
       "0        5         5  0.0  0.0  0.0  1.0  0.0  0.0  0.0  0.0  0.0  0.0  1.0   \n",
       "1        4         5  0.0  0.0  0.0  1.0  0.0  0.0  0.0  0.0  0.0  0.0  0.0   \n",
       "2        5         5  1.0  0.0  0.0  0.0  0.0  0.0  0.0  0.0  0.0  0.0  0.0   \n",
       "3        5         5  0.0  0.0  0.0  1.0  0.0  0.0  0.0  0.0  0.0  1.0  0.0   \n",
       "4        5         5  0.0  0.0  0.0  1.0  0.0  0.0  0.0  0.0  0.0  1.0  0.0   \n",
       "\n",
       "    11   12   13   14   15   16   17   18   19   20   21   22   23   24   25  \\\n",
       "0  0.0  0.0  0.0  1.0  0.0  1.0  0.0  0.0  1.0  1.0  0.0  0.0  1.0  1.0  0.0   \n",
       "1  0.0  0.0  1.0  1.0  0.0  0.0  1.0  0.0  1.0  1.0  0.0  0.0  1.0  1.0  0.0   \n",
       "2  0.0  1.0  0.0  1.0  0.0  1.0  0.0  0.0  1.0  1.0  0.0  1.0  0.0  1.0  0.0   \n",
       "3  0.0  0.0  0.0  0.0  1.0  0.0  1.0  0.0  1.0  0.0  1.0  0.0  1.0  0.0  1.0   \n",
       "4  0.0  0.0  0.0  0.0  1.0  0.0  1.0  1.0  0.0  0.0  1.0  1.0  0.0  1.0  0.0   \n",
       "\n",
       "   Marka  Model  Kolor  Generacja  Kraj_prod  Paliwo  Rok_prod     0  \\\n",
       "0     32      2    286          3        251     400         1 -0.13   \n",
       "1     77     23    129         21        215     400         9 -0.91   \n",
       "2    105     10    113          3        362     482         2  0.49   \n",
       "3     79     24    286         18        215     482        10 -0.22   \n",
       "4     77     23    113         21        362     482         9  0.27   \n",
       "\n",
       "   Pojemność   Moc  \n",
       "0       0.35  0.07  \n",
       "1      -0.46  0.54  \n",
       "2       1.83  1.17  \n",
       "3      -0.55 -0.88  \n",
       "4       0.28  0.07  "
      ]
     },
     "execution_count": 50,
     "metadata": {},
     "output_type": "execute_result"
    }
   ],
   "source": [
    "X_test_trans.head()"
   ]
  },
  {
   "cell_type": "code",
   "execution_count": 51,
   "metadata": {},
   "outputs": [
    {
     "data": {
      "text/plain": [
       "8900.902076668623"
      ]
     },
     "execution_count": 51,
     "metadata": {},
     "output_type": "execute_result"
    }
   ],
   "source": [
    "from sklearn.metrics import mean_squared_error\n",
    "\n",
    "final_preds = final_model.predict(X_test_trans)\n",
    "\n",
    "final_mse = mean_squared_error(y_test, final_preds)\n",
    "final_rmse = np.sqrt(final_mse)\n",
    "final_rmse"
   ]
  },
  {
   "cell_type": "markdown",
   "metadata": {},
   "source": [
    "## 7. Results export"
   ]
  },
  {
   "cell_type": "code",
   "execution_count": 52,
   "metadata": {},
   "outputs": [
    {
     "name": "stderr",
     "output_type": "stream",
     "text": [
      "C:\\Users\\Maciek\\Anaconda3\\lib\\site-packages\\sklearn\\externals\\joblib\\__init__.py:15: DeprecationWarning: sklearn.externals.joblib is deprecated in 0.21 and will be removed in 0.23. Please import this functionality directly from joblib, which can be installed with: pip install joblib. If this warning is raised when loading pickled models, you may need to re-serialize those models with scikit-learn 0.21+.\n",
      "  warnings.warn(msg, category=DeprecationWarning)\n"
     ]
    },
    {
     "data": {
      "text/plain": [
       "['./Results/final_model_0.21.3.pkl)']"
      ]
     },
     "execution_count": 52,
     "metadata": {},
     "output_type": "execute_result"
    }
   ],
   "source": [
    "import sklearn\n",
    "from sklearn.externals import joblib\n",
    "\n",
    "# Scikit-Learn version info\n",
    "sklearn_version = sklearn.__version__\n",
    "\n",
    "# Saving model into pickle\n",
    "joblib.dump(final_model, './Results/final_model_{}.pkl)'.format(sklearn_version))"
   ]
  }
 ],
 "metadata": {
  "kernelspec": {
   "display_name": "Python 3",
   "language": "python",
   "name": "python3"
  },
  "language_info": {
   "codemirror_mode": {
    "name": "ipython",
    "version": 3
   },
   "file_extension": ".py",
   "mimetype": "text/x-python",
   "name": "python",
   "nbconvert_exporter": "python",
   "pygments_lexer": "ipython3",
   "version": "3.7.4"
  }
 },
 "nbformat": 4,
 "nbformat_minor": 2
}
